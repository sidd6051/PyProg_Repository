{
 "cells": [
  {
   "cell_type": "markdown",
   "id": "7bd17917",
   "metadata": {},
   "source": [
    "# Variables and Simple Data Types"
   ]
  },
  {
   "cell_type": "markdown",
   "id": "7ae22b26",
   "metadata": {},
   "source": [
    "## VARIABLES"
   ]
  },
  {
   "cell_type": "code",
   "execution_count": 1,
   "id": "3b142ea9",
   "metadata": {},
   "outputs": [
    {
     "name": "stdout",
     "output_type": "stream",
     "text": [
      "Hello World!\n"
     ]
    }
   ],
   "source": [
    "print('Hello World!') #Syntax Highlighting"
   ]
  },
  {
   "cell_type": "code",
   "execution_count": 4,
   "id": "5812f26a",
   "metadata": {},
   "outputs": [],
   "source": [
    "message = 'Hello Python World!' #Variable declaration and value(information) assocated with it"
   ]
  },
  {
   "cell_type": "code",
   "execution_count": 3,
   "id": "06229a42",
   "metadata": {},
   "outputs": [
    {
     "name": "stdout",
     "output_type": "stream",
     "text": [
      "Hello Python World!\n"
     ]
    }
   ],
   "source": [
    "print(message)"
   ]
  },
  {
   "cell_type": "markdown",
   "id": "b80de310",
   "metadata": {},
   "source": [
    "## STRING"
   ]
  },
  {
   "cell_type": "code",
   "execution_count": 5,
   "id": "a93a11f1",
   "metadata": {},
   "outputs": [],
   "source": [
    "name = 'ada lovelace'"
   ]
  },
  {
   "cell_type": "code",
   "execution_count": 6,
   "id": "6c984333",
   "metadata": {},
   "outputs": [
    {
     "data": {
      "text/plain": [
       "'Ada Lovelace'"
      ]
     },
     "execution_count": 6,
     "metadata": {},
     "output_type": "execute_result"
    }
   ],
   "source": [
    "name.title()"
   ]
  },
  {
   "cell_type": "code",
   "execution_count": 7,
   "id": "db667b8d",
   "metadata": {},
   "outputs": [
    {
     "data": {
      "text/plain": [
       "'ADA LOVELACE'"
      ]
     },
     "execution_count": 7,
     "metadata": {},
     "output_type": "execute_result"
    }
   ],
   "source": [
    "name.upper()"
   ]
  },
  {
   "cell_type": "code",
   "execution_count": 8,
   "id": "69b323ee",
   "metadata": {},
   "outputs": [
    {
     "data": {
      "text/plain": [
       "'ada lovelace'"
      ]
     },
     "execution_count": 8,
     "metadata": {},
     "output_type": "execute_result"
    }
   ],
   "source": [
    "name.lower()"
   ]
  },
  {
   "cell_type": "code",
   "execution_count": 9,
   "id": "6c40009f",
   "metadata": {},
   "outputs": [],
   "source": [
    "first_name = 'Siddhant'"
   ]
  },
  {
   "cell_type": "code",
   "execution_count": 10,
   "id": "b2eeb2cb",
   "metadata": {},
   "outputs": [],
   "source": [
    "last_name = 'Raj'"
   ]
  },
  {
   "cell_type": "code",
   "execution_count": 11,
   "id": "36a251ec",
   "metadata": {},
   "outputs": [],
   "source": [
    "full_name = f'{first_name} {last_name}'"
   ]
  },
  {
   "cell_type": "code",
   "execution_count": 12,
   "id": "433b3e69",
   "metadata": {},
   "outputs": [
    {
     "name": "stdout",
     "output_type": "stream",
     "text": [
      "Siddhant Raj\n"
     ]
    }
   ],
   "source": [
    "print(full_name)"
   ]
  },
  {
   "cell_type": "code",
   "execution_count": 13,
   "id": "4b5d7e1a",
   "metadata": {},
   "outputs": [
    {
     "name": "stdout",
     "output_type": "stream",
     "text": [
      "Siddhant Raj\n"
     ]
    }
   ],
   "source": [
    "print(full_name.title())"
   ]
  },
  {
   "cell_type": "code",
   "execution_count": 14,
   "id": "1999a8d2",
   "metadata": {},
   "outputs": [
    {
     "name": "stdout",
     "output_type": "stream",
     "text": [
      "SIDDHANT RAJ\n"
     ]
    }
   ],
   "source": [
    "print(full_name.upper())"
   ]
  },
  {
   "cell_type": "code",
   "execution_count": 15,
   "id": "861f65d4",
   "metadata": {},
   "outputs": [],
   "source": [
    "favourite_language = 'Python '"
   ]
  },
  {
   "cell_type": "code",
   "execution_count": 16,
   "id": "3da70e1f",
   "metadata": {},
   "outputs": [
    {
     "name": "stdout",
     "output_type": "stream",
     "text": [
      "Python\n"
     ]
    }
   ],
   "source": [
    "print(favourite_language.rstrip())"
   ]
  },
  {
   "cell_type": "code",
   "execution_count": 17,
   "id": "2b3d50f8",
   "metadata": {},
   "outputs": [],
   "source": [
    "favourite_language = ' Python'"
   ]
  },
  {
   "cell_type": "code",
   "execution_count": 18,
   "id": "834e088a",
   "metadata": {},
   "outputs": [
    {
     "name": "stdout",
     "output_type": "stream",
     "text": [
      "Python\n"
     ]
    }
   ],
   "source": [
    "print(favourite_language.lstrip())"
   ]
  },
  {
   "cell_type": "code",
   "execution_count": 19,
   "id": "516d7a4b",
   "metadata": {},
   "outputs": [],
   "source": [
    "favourite_language = ' Python ' "
   ]
  },
  {
   "cell_type": "code",
   "execution_count": 20,
   "id": "be400a27",
   "metadata": {},
   "outputs": [
    {
     "data": {
      "text/plain": [
       "'Python'"
      ]
     },
     "execution_count": 20,
     "metadata": {},
     "output_type": "execute_result"
    }
   ],
   "source": [
    "favourite_language.strip()"
   ]
  },
  {
   "cell_type": "code",
   "execution_count": 21,
   "id": "32bc0dd2",
   "metadata": {},
   "outputs": [],
   "source": [
    "famous_person = 'Albert Einstein'"
   ]
  },
  {
   "cell_type": "code",
   "execution_count": 22,
   "id": "9ee94a76",
   "metadata": {},
   "outputs": [
    {
     "name": "stdout",
     "output_type": "stream",
     "text": [
      "Albert Einstein once said ,'A person who never made a mistake never tried anything new'\n"
     ]
    }
   ],
   "source": [
    "print(f\"{famous_person} once said ,'A person who never made a mistake never tried anything new'\")"
   ]
  },
  {
   "cell_type": "code",
   "execution_count": 26,
   "id": "feb55b4e",
   "metadata": {},
   "outputs": [],
   "source": [
    "message = \"'A person who never made a mistake never tried anything new'\""
   ]
  },
  {
   "cell_type": "code",
   "execution_count": 27,
   "id": "a077af5d",
   "metadata": {},
   "outputs": [
    {
     "name": "stdout",
     "output_type": "stream",
     "text": [
      "Albert Einstein 'A person who never made a mistake never tried anything new'\n"
     ]
    }
   ],
   "source": [
    "print(f\"{famous_person} {message}\")"
   ]
  },
  {
   "cell_type": "markdown",
   "id": "7c310f9a",
   "metadata": {},
   "source": [
    "## NUMBERS"
   ]
  },
  {
   "cell_type": "code",
   "execution_count": 28,
   "id": "25bac662",
   "metadata": {},
   "outputs": [
    {
     "data": {
      "text/plain": [
       "9"
      ]
     },
     "execution_count": 28,
     "metadata": {},
     "output_type": "execute_result"
    }
   ],
   "source": [
    "3**2"
   ]
  },
  {
   "cell_type": "code",
   "execution_count": 29,
   "id": "1e344dda",
   "metadata": {},
   "outputs": [
    {
     "data": {
      "text/plain": [
       "3.0"
      ]
     },
     "execution_count": 29,
     "metadata": {},
     "output_type": "execute_result"
    }
   ],
   "source": [
    "9**0.5"
   ]
  },
  {
   "cell_type": "code",
   "execution_count": 30,
   "id": "e8e2cc12",
   "metadata": {},
   "outputs": [
    {
     "data": {
      "text/plain": [
       "0.2"
      ]
     },
     "execution_count": 30,
     "metadata": {},
     "output_type": "execute_result"
    }
   ],
   "source": [
    "0.1*2"
   ]
  },
  {
   "cell_type": "code",
   "execution_count": 31,
   "id": "02bf6c84",
   "metadata": {},
   "outputs": [
    {
     "data": {
      "text/plain": [
       "0.4"
      ]
     },
     "execution_count": 31,
     "metadata": {},
     "output_type": "execute_result"
    }
   ],
   "source": [
    "0.2*2"
   ]
  },
  {
   "cell_type": "code",
   "execution_count": 32,
   "id": "bbde8523",
   "metadata": {},
   "outputs": [
    {
     "data": {
      "text/plain": [
       "3.0"
      ]
     },
     "execution_count": 32,
     "metadata": {},
     "output_type": "execute_result"
    }
   ],
   "source": [
    "1+2.0"
   ]
  },
  {
   "cell_type": "code",
   "execution_count": 33,
   "id": "7e490619",
   "metadata": {},
   "outputs": [],
   "source": [
    "x,y,z = 0,0,0"
   ]
  },
  {
   "cell_type": "code",
   "execution_count": 34,
   "id": "75757e60",
   "metadata": {},
   "outputs": [
    {
     "data": {
      "text/plain": [
       "0"
      ]
     },
     "execution_count": 34,
     "metadata": {},
     "output_type": "execute_result"
    }
   ],
   "source": [
    "x"
   ]
  },
  {
   "cell_type": "code",
   "execution_count": 35,
   "id": "dcf2b60d",
   "metadata": {},
   "outputs": [
    {
     "data": {
      "text/plain": [
       "0"
      ]
     },
     "execution_count": 35,
     "metadata": {},
     "output_type": "execute_result"
    }
   ],
   "source": [
    "y"
   ]
  },
  {
   "cell_type": "code",
   "execution_count": 36,
   "id": "1935527e",
   "metadata": {},
   "outputs": [
    {
     "data": {
      "text/plain": [
       "0"
      ]
     },
     "execution_count": 36,
     "metadata": {},
     "output_type": "execute_result"
    }
   ],
   "source": [
    "z"
   ]
  },
  {
   "cell_type": "code",
   "execution_count": 37,
   "id": "bda31d15",
   "metadata": {},
   "outputs": [
    {
     "name": "stdout",
     "output_type": "stream",
     "text": [
      "The Zen of Python, by Tim Peters\n",
      "\n",
      "Beautiful is better than ugly.\n",
      "Explicit is better than implicit.\n",
      "Simple is better than complex.\n",
      "Complex is better than complicated.\n",
      "Flat is better than nested.\n",
      "Sparse is better than dense.\n",
      "Readability counts.\n",
      "Special cases aren't special enough to break the rules.\n",
      "Although practicality beats purity.\n",
      "Errors should never pass silently.\n",
      "Unless explicitly silenced.\n",
      "In the face of ambiguity, refuse the temptation to guess.\n",
      "There should be one-- and preferably only one --obvious way to do it.\n",
      "Although that way may not be obvious at first unless you're Dutch.\n",
      "Now is better than never.\n",
      "Although never is often better than *right* now.\n",
      "If the implementation is hard to explain, it's a bad idea.\n",
      "If the implementation is easy to explain, it may be a good idea.\n",
      "Namespaces are one honking great idea -- let's do more of those!\n"
     ]
    }
   ],
   "source": [
    "import this"
   ]
  },
  {
   "cell_type": "code",
   "execution_count": 7,
   "id": "3dbebd05",
   "metadata": {},
   "outputs": [],
   "source": [
    "var = True"
   ]
  },
  {
   "cell_type": "code",
   "execution_count": 8,
   "id": "663bb4d3",
   "metadata": {},
   "outputs": [
    {
     "data": {
      "text/plain": [
       "bool"
      ]
     },
     "execution_count": 8,
     "metadata": {},
     "output_type": "execute_result"
    }
   ],
   "source": [
    "type(var)"
   ]
  },
  {
   "cell_type": "markdown",
   "id": "19e76b2e",
   "metadata": {},
   "source": [
    " # Introducing Lists"
   ]
  },
  {
   "cell_type": "code",
   "execution_count": 9,
   "id": "d6a7719c",
   "metadata": {},
   "outputs": [],
   "source": [
    "bicycles = ['trek','cannondale','redline','specialized']"
   ]
  },
  {
   "cell_type": "code",
   "execution_count": 10,
   "id": "dfbf012d",
   "metadata": {},
   "outputs": [
    {
     "name": "stdout",
     "output_type": "stream",
     "text": [
      "['trek', 'cannondale', 'redline', 'specialized']\n"
     ]
    }
   ],
   "source": [
    "print(bicycles)"
   ]
  },
  {
   "cell_type": "code",
   "execution_count": 11,
   "id": "dd3581e9",
   "metadata": {},
   "outputs": [
    {
     "name": "stdout",
     "output_type": "stream",
     "text": [
      "trek\n"
     ]
    }
   ],
   "source": [
    "print(bicycles[0])"
   ]
  },
  {
   "cell_type": "code",
   "execution_count": 12,
   "id": "16025b38",
   "metadata": {},
   "outputs": [
    {
     "name": "stdout",
     "output_type": "stream",
     "text": [
      "Trek\n"
     ]
    }
   ],
   "source": [
    "print(bicycles[0].title())"
   ]
  },
  {
   "cell_type": "code",
   "execution_count": 13,
   "id": "fb72be52",
   "metadata": {},
   "outputs": [
    {
     "name": "stdout",
     "output_type": "stream",
     "text": [
      "specialized\n"
     ]
    }
   ],
   "source": [
    "print(bicycles[-1])"
   ]
  },
  {
   "cell_type": "code",
   "execution_count": 14,
   "id": "dd84e763",
   "metadata": {},
   "outputs": [
    {
     "name": "stdout",
     "output_type": "stream",
     "text": [
      "redline\n"
     ]
    }
   ],
   "source": [
    "print(bicycles[-2])"
   ]
  },
  {
   "cell_type": "code",
   "execution_count": 15,
   "id": "0ea1200c",
   "metadata": {},
   "outputs": [
    {
     "name": "stdout",
     "output_type": "stream",
     "text": [
      "My first bicycle was a Trek\n"
     ]
    }
   ],
   "source": [
    "message = f'My first bicycle was a {bicycles[0].title()}'\n",
    "print(message)"
   ]
  },
  {
   "cell_type": "code",
   "execution_count": 16,
   "id": "ddee8774",
   "metadata": {},
   "outputs": [
    {
     "name": "stdout",
     "output_type": "stream",
     "text": [
      "['honda', 'yamaha', 'suzuki']\n"
     ]
    }
   ],
   "source": [
    "motorcycles = ['honda','yamaha','suzuki']\n",
    "print(motorcycles)"
   ]
  },
  {
   "cell_type": "code",
   "execution_count": 17,
   "id": "2c9c5694",
   "metadata": {},
   "outputs": [],
   "source": [
    "motorcycles[0] = 'ducati'"
   ]
  },
  {
   "cell_type": "code",
   "execution_count": 18,
   "id": "31402074",
   "metadata": {},
   "outputs": [
    {
     "name": "stdout",
     "output_type": "stream",
     "text": [
      "['ducati', 'yamaha', 'suzuki']\n"
     ]
    }
   ],
   "source": [
    "print(motorcycles)"
   ]
  },
  {
   "cell_type": "code",
   "execution_count": 19,
   "id": "fe558078",
   "metadata": {},
   "outputs": [],
   "source": [
    "motorcycles.append('hero')"
   ]
  },
  {
   "cell_type": "code",
   "execution_count": 20,
   "id": "b1924c53",
   "metadata": {},
   "outputs": [
    {
     "name": "stdout",
     "output_type": "stream",
     "text": [
      "['ducati', 'yamaha', 'suzuki', 'hero']\n"
     ]
    }
   ],
   "source": [
    "print(motorcycles)"
   ]
  },
  {
   "cell_type": "code",
   "execution_count": 21,
   "id": "f8913308",
   "metadata": {},
   "outputs": [],
   "source": [
    "motorcycles.insert(0,'TVS')"
   ]
  },
  {
   "cell_type": "code",
   "execution_count": 22,
   "id": "2dd13a8b",
   "metadata": {},
   "outputs": [
    {
     "data": {
      "text/plain": [
       "['TVS', 'ducati', 'yamaha', 'suzuki', 'hero']"
      ]
     },
     "execution_count": 22,
     "metadata": {},
     "output_type": "execute_result"
    }
   ],
   "source": [
    "motorcycles"
   ]
  },
  {
   "cell_type": "code",
   "execution_count": 23,
   "id": "e953bfed",
   "metadata": {},
   "outputs": [],
   "source": [
    "del motorcycles[0]"
   ]
  },
  {
   "cell_type": "code",
   "execution_count": 24,
   "id": "44f1742c",
   "metadata": {},
   "outputs": [
    {
     "data": {
      "text/plain": [
       "['ducati', 'yamaha', 'suzuki', 'hero']"
      ]
     },
     "execution_count": 24,
     "metadata": {},
     "output_type": "execute_result"
    }
   ],
   "source": [
    "motorcycles"
   ]
  },
  {
   "cell_type": "code",
   "execution_count": 26,
   "id": "d0482b02",
   "metadata": {},
   "outputs": [],
   "source": [
    "del motorcycles[3]"
   ]
  },
  {
   "cell_type": "code",
   "execution_count": 27,
   "id": "72119965",
   "metadata": {},
   "outputs": [
    {
     "data": {
      "text/plain": [
       "['ducati', 'yamaha', 'suzuki']"
      ]
     },
     "execution_count": 27,
     "metadata": {},
     "output_type": "execute_result"
    }
   ],
   "source": [
    "motorcycles"
   ]
  },
  {
   "cell_type": "code",
   "execution_count": 28,
   "id": "d1c053e4",
   "metadata": {},
   "outputs": [],
   "source": [
    "popped_motorcycle = motorcycles.pop()"
   ]
  },
  {
   "cell_type": "code",
   "execution_count": 29,
   "id": "52356f67",
   "metadata": {},
   "outputs": [
    {
     "data": {
      "text/plain": [
       "'suzuki'"
      ]
     },
     "execution_count": 29,
     "metadata": {},
     "output_type": "execute_result"
    }
   ],
   "source": [
    "popped_motorcycle"
   ]
  },
  {
   "cell_type": "code",
   "execution_count": 30,
   "id": "93e23b2e",
   "metadata": {},
   "outputs": [
    {
     "data": {
      "text/plain": [
       "['ducati', 'yamaha']"
      ]
     },
     "execution_count": 30,
     "metadata": {},
     "output_type": "execute_result"
    }
   ],
   "source": [
    "motorcycles"
   ]
  },
  {
   "cell_type": "code",
   "execution_count": 31,
   "id": "c744865e",
   "metadata": {},
   "outputs": [],
   "source": [
    "motorcycles.append('TVS')"
   ]
  },
  {
   "cell_type": "code",
   "execution_count": 32,
   "id": "a2259da5",
   "metadata": {},
   "outputs": [
    {
     "data": {
      "text/plain": [
       "['ducati', 'yamaha', 'TVS']"
      ]
     },
     "execution_count": 32,
     "metadata": {},
     "output_type": "execute_result"
    }
   ],
   "source": [
    "motorcycles"
   ]
  },
  {
   "cell_type": "code",
   "execution_count": 33,
   "id": "56157c9b",
   "metadata": {},
   "outputs": [],
   "source": [
    "fav_moto = motorcycles.pop(1)"
   ]
  },
  {
   "cell_type": "code",
   "execution_count": 34,
   "id": "1df9bc0a",
   "metadata": {},
   "outputs": [
    {
     "data": {
      "text/plain": [
       "'yamaha'"
      ]
     },
     "execution_count": 34,
     "metadata": {},
     "output_type": "execute_result"
    }
   ],
   "source": [
    "fav_moto"
   ]
  },
  {
   "cell_type": "code",
   "execution_count": 35,
   "id": "0c985e05",
   "metadata": {},
   "outputs": [
    {
     "data": {
      "text/plain": [
       "['ducati', 'TVS']"
      ]
     },
     "execution_count": 35,
     "metadata": {},
     "output_type": "execute_result"
    }
   ],
   "source": [
    "motorcycles"
   ]
  },
  {
   "cell_type": "code",
   "execution_count": 36,
   "id": "d0cd8d73",
   "metadata": {},
   "outputs": [],
   "source": [
    "too_expensive = 'ducati'"
   ]
  },
  {
   "cell_type": "code",
   "execution_count": 37,
   "id": "85abfbb2",
   "metadata": {},
   "outputs": [],
   "source": [
    "motorcycles.remove(too_expensive)"
   ]
  },
  {
   "cell_type": "code",
   "execution_count": 38,
   "id": "c931f354",
   "metadata": {},
   "outputs": [
    {
     "data": {
      "text/plain": [
       "['TVS']"
      ]
     },
     "execution_count": 38,
     "metadata": {},
     "output_type": "execute_result"
    }
   ],
   "source": [
    "motorcycles"
   ]
  },
  {
   "cell_type": "code",
   "execution_count": 247,
   "id": "0e2c4460",
   "metadata": {},
   "outputs": [],
   "source": [
    "invites = ['sid','ritwik','riddhi']"
   ]
  },
  {
   "cell_type": "code",
   "execution_count": 248,
   "id": "0b479bbf",
   "metadata": {},
   "outputs": [
    {
     "name": "stdout",
     "output_type": "stream",
     "text": [
      "sid, you are invited for the party!\n",
      "ritwik, you are invited for the party!\n",
      "riddhi, you are invited for the party!\n"
     ]
    }
   ],
   "source": [
    "for item in invites:\n",
    "    print(f'{item}, you are invited for the party!')"
   ]
  },
  {
   "cell_type": "code",
   "execution_count": 249,
   "id": "225cdc11",
   "metadata": {},
   "outputs": [
    {
     "name": "stdout",
     "output_type": "stream",
     "text": [
      "riddhi wont be attending\n"
     ]
    }
   ],
   "source": [
    "print('riddhi wont be attending')"
   ]
  },
  {
   "cell_type": "code",
   "execution_count": 250,
   "id": "108d6a48",
   "metadata": {},
   "outputs": [],
   "source": [
    "del invites[-1]"
   ]
  },
  {
   "cell_type": "code",
   "execution_count": 251,
   "id": "f745ff3f",
   "metadata": {},
   "outputs": [
    {
     "data": {
      "text/plain": [
       "['sid', 'ritwik']"
      ]
     },
     "execution_count": 251,
     "metadata": {},
     "output_type": "execute_result"
    }
   ],
   "source": [
    "invites"
   ]
  },
  {
   "cell_type": "code",
   "execution_count": 252,
   "id": "73c14aac",
   "metadata": {},
   "outputs": [],
   "source": [
    "invites.append('ayush')"
   ]
  },
  {
   "cell_type": "code",
   "execution_count": 253,
   "id": "a4013b0d",
   "metadata": {},
   "outputs": [
    {
     "data": {
      "text/plain": [
       "['sid', 'ritwik', 'ayush']"
      ]
     },
     "execution_count": 253,
     "metadata": {},
     "output_type": "execute_result"
    }
   ],
   "source": [
    "invites"
   ]
  },
  {
   "cell_type": "code",
   "execution_count": 254,
   "id": "c061e140",
   "metadata": {},
   "outputs": [
    {
     "name": "stdout",
     "output_type": "stream",
     "text": [
      "sid, you are invited for the party!\n",
      "ritwik, you are invited for the party!\n",
      "ayush, you are invited for the party!\n"
     ]
    }
   ],
   "source": [
    "for item in invites:\n",
    "    print(f'{item}, you are invited for the party!')"
   ]
  },
  {
   "cell_type": "code",
   "execution_count": 255,
   "id": "ad87d47e",
   "metadata": {},
   "outputs": [],
   "source": [
    "invites.insert(0,'Puja di')"
   ]
  },
  {
   "cell_type": "code",
   "execution_count": 256,
   "id": "6135a4bf",
   "metadata": {},
   "outputs": [],
   "source": [
    "invites.insert(3,'mum')"
   ]
  },
  {
   "cell_type": "code",
   "execution_count": 257,
   "id": "bad825f5",
   "metadata": {},
   "outputs": [
    {
     "data": {
      "text/plain": [
       "['Puja di', 'sid', 'ritwik', 'mum', 'ayush']"
      ]
     },
     "execution_count": 257,
     "metadata": {},
     "output_type": "execute_result"
    }
   ],
   "source": [
    "invites"
   ]
  },
  {
   "cell_type": "code",
   "execution_count": 258,
   "id": "7b61e810",
   "metadata": {},
   "outputs": [],
   "source": [
    "invites.append('Rahul')"
   ]
  },
  {
   "cell_type": "code",
   "execution_count": 259,
   "id": "96e8de77",
   "metadata": {},
   "outputs": [
    {
     "data": {
      "text/plain": [
       "['Puja di', 'sid', 'ritwik', 'mum', 'ayush', 'Rahul']"
      ]
     },
     "execution_count": 259,
     "metadata": {},
     "output_type": "execute_result"
    }
   ],
   "source": [
    "invites"
   ]
  },
  {
   "cell_type": "code",
   "execution_count": 260,
   "id": "bb449eb6",
   "metadata": {},
   "outputs": [],
   "source": [
    "car = ['bmw','audi','ferrari','hyundai']"
   ]
  },
  {
   "cell_type": "code",
   "execution_count": 261,
   "id": "7426a593",
   "metadata": {},
   "outputs": [],
   "source": [
    "car.sort()"
   ]
  },
  {
   "cell_type": "code",
   "execution_count": 262,
   "id": "7a6a9111",
   "metadata": {},
   "outputs": [
    {
     "data": {
      "text/plain": [
       "['audi', 'bmw', 'ferrari', 'hyundai']"
      ]
     },
     "execution_count": 262,
     "metadata": {},
     "output_type": "execute_result"
    }
   ],
   "source": [
    "car"
   ]
  },
  {
   "cell_type": "code",
   "execution_count": 263,
   "id": "d6abb7a0",
   "metadata": {},
   "outputs": [],
   "source": [
    "car.append('Bolero')"
   ]
  },
  {
   "cell_type": "code",
   "execution_count": 264,
   "id": "4d5938df",
   "metadata": {},
   "outputs": [
    {
     "data": {
      "text/plain": [
       "['audi', 'bmw', 'ferrari', 'hyundai', 'Bolero']"
      ]
     },
     "execution_count": 264,
     "metadata": {},
     "output_type": "execute_result"
    }
   ],
   "source": [
    "car"
   ]
  },
  {
   "cell_type": "code",
   "execution_count": 265,
   "id": "fa0b5f45",
   "metadata": {},
   "outputs": [
    {
     "data": {
      "text/plain": [
       "['Bolero', 'audi', 'bmw', 'ferrari', 'hyundai']"
      ]
     },
     "execution_count": 265,
     "metadata": {},
     "output_type": "execute_result"
    }
   ],
   "source": [
    "sorted(car)"
   ]
  },
  {
   "cell_type": "code",
   "execution_count": 266,
   "id": "f761f1cf",
   "metadata": {},
   "outputs": [
    {
     "data": {
      "text/plain": [
       "['audi', 'bmw', 'ferrari', 'hyundai', 'Bolero']"
      ]
     },
     "execution_count": 266,
     "metadata": {},
     "output_type": "execute_result"
    }
   ],
   "source": [
    "car"
   ]
  },
  {
   "cell_type": "code",
   "execution_count": 267,
   "id": "3e1a061c",
   "metadata": {},
   "outputs": [],
   "source": [
    "car.reverse()"
   ]
  },
  {
   "cell_type": "code",
   "execution_count": 268,
   "id": "0a84abf1",
   "metadata": {},
   "outputs": [
    {
     "data": {
      "text/plain": [
       "['Bolero', 'hyundai', 'ferrari', 'bmw', 'audi']"
      ]
     },
     "execution_count": 268,
     "metadata": {},
     "output_type": "execute_result"
    }
   ],
   "source": [
    "car"
   ]
  },
  {
   "cell_type": "code",
   "execution_count": 269,
   "id": "2bcaae0f",
   "metadata": {},
   "outputs": [
    {
     "name": "stdout",
     "output_type": "stream",
     "text": [
      "['Bolero', 'hyundai', 'ferrari', 'bmw', 'audi']\n"
     ]
    }
   ],
   "source": [
    "print(car)"
   ]
  },
  {
   "cell_type": "code",
   "execution_count": 270,
   "id": "e4c39ce4",
   "metadata": {},
   "outputs": [
    {
     "name": "stdout",
     "output_type": "stream",
     "text": [
      "None\n"
     ]
    }
   ],
   "source": [
    "print(car.reverse())"
   ]
  },
  {
   "cell_type": "code",
   "execution_count": 271,
   "id": "593bfb60",
   "metadata": {},
   "outputs": [
    {
     "name": "stdout",
     "output_type": "stream",
     "text": [
      "['audi', 'bmw', 'ferrari', 'hyundai', 'Bolero']\n"
     ]
    }
   ],
   "source": [
    "print(car)"
   ]
  },
  {
   "cell_type": "markdown",
   "id": "c71652ed",
   "metadata": {},
   "source": [
    "## Working With List"
   ]
  },
  {
   "cell_type": "code",
   "execution_count": 272,
   "id": "43915544",
   "metadata": {},
   "outputs": [],
   "source": [
    "magicians = ['alice','david','carolina']"
   ]
  },
  {
   "cell_type": "code",
   "execution_count": 273,
   "id": "7af9deb7",
   "metadata": {},
   "outputs": [
    {
     "name": "stdout",
     "output_type": "stream",
     "text": [
      "alice\n",
      "david\n",
      "carolina\n"
     ]
    }
   ],
   "source": [
    "for magician in magicians:\n",
    "    print(magician)"
   ]
  },
  {
   "cell_type": "code",
   "execution_count": 274,
   "id": "e6d9c9f0",
   "metadata": {},
   "outputs": [],
   "source": [
    "pizza_list = ['cheese and corn pizza','Chicken tikka pizza','farmhouse pizza']"
   ]
  },
  {
   "cell_type": "code",
   "execution_count": 277,
   "id": "3b85d503",
   "metadata": {},
   "outputs": [
    {
     "name": "stdout",
     "output_type": "stream",
     "text": [
      "I like cheese and corn pizza\n",
      "I like Chicken tikka pizza\n",
      "I like farmhouse pizza\n",
      "These are not all but some flavours of pizza that I enjoy having over the weekend\n"
     ]
    }
   ],
   "source": [
    "for pizza in pizza_list:\n",
    "    print(f'I like {pizza}')\n",
    "print('These are not all but some flavours of pizza that I enjoy having over the weekend')"
   ]
  },
  {
   "cell_type": "code",
   "execution_count": 278,
   "id": "e7807462",
   "metadata": {},
   "outputs": [],
   "source": [
    "animal_list = ['Dog','Cat','Lion']"
   ]
  },
  {
   "cell_type": "code",
   "execution_count": 282,
   "id": "72a5c498",
   "metadata": {},
   "outputs": [
    {
     "name": "stdout",
     "output_type": "stream",
     "text": [
      "A Dog would make a great pet\n",
      "A Cat would make a great pet\n",
      "A Lion would make a great pet\n",
      "They have a tail and they walk on 4 legs!\n"
     ]
    }
   ],
   "source": [
    "for animal in animal_list:\n",
    "    print(f'A {animal} would make a great pet')\n",
    "print('They have a tail and they walk on 4 legs!')"
   ]
  },
  {
   "cell_type": "code",
   "execution_count": 283,
   "id": "7fb514b8",
   "metadata": {},
   "outputs": [
    {
     "name": "stdout",
     "output_type": "stream",
     "text": [
      "1\n",
      "2\n",
      "3\n",
      "4\n"
     ]
    }
   ],
   "source": [
    "for value in range(1,5):\n",
    "    print(value)\n",
    "    "
   ]
  },
  {
   "cell_type": "code",
   "execution_count": 284,
   "id": "404c7eed",
   "metadata": {},
   "outputs": [],
   "source": [
    "numbered_list = list(range(1,6))"
   ]
  },
  {
   "cell_type": "code",
   "execution_count": 285,
   "id": "fa3e3a62",
   "metadata": {},
   "outputs": [
    {
     "data": {
      "text/plain": [
       "[1, 2, 3, 4, 5]"
      ]
     },
     "execution_count": 285,
     "metadata": {},
     "output_type": "execute_result"
    }
   ],
   "source": [
    "numbered_list"
   ]
  },
  {
   "cell_type": "code",
   "execution_count": 288,
   "id": "82815a1c",
   "metadata": {},
   "outputs": [],
   "source": [
    "even_numbered_list = list(range(0,11,2))"
   ]
  },
  {
   "cell_type": "code",
   "execution_count": 289,
   "id": "9ca8b0dc",
   "metadata": {},
   "outputs": [
    {
     "data": {
      "text/plain": [
       "[0, 2, 4, 6, 8, 10]"
      ]
     },
     "execution_count": 289,
     "metadata": {},
     "output_type": "execute_result"
    }
   ],
   "source": [
    "even_numbered_list"
   ]
  },
  {
   "cell_type": "code",
   "execution_count": 290,
   "id": "e8968076",
   "metadata": {},
   "outputs": [],
   "source": [
    "squared_list = []\n",
    "for item in range(0,11):\n",
    "    squared_list.append(item**2)"
   ]
  },
  {
   "cell_type": "code",
   "execution_count": 291,
   "id": "b0d75977",
   "metadata": {},
   "outputs": [
    {
     "data": {
      "text/plain": [
       "[0, 1, 4, 9, 16, 25, 36, 49, 64, 81, 100]"
      ]
     },
     "execution_count": 291,
     "metadata": {},
     "output_type": "execute_result"
    }
   ],
   "source": [
    "squared_list"
   ]
  },
  {
   "cell_type": "code",
   "execution_count": 292,
   "id": "9c1c2126",
   "metadata": {},
   "outputs": [
    {
     "data": {
      "text/plain": [
       "0"
      ]
     },
     "execution_count": 292,
     "metadata": {},
     "output_type": "execute_result"
    }
   ],
   "source": [
    "min(squared_list)"
   ]
  },
  {
   "cell_type": "code",
   "execution_count": 293,
   "id": "6ee8e748",
   "metadata": {},
   "outputs": [
    {
     "data": {
      "text/plain": [
       "100"
      ]
     },
     "execution_count": 293,
     "metadata": {},
     "output_type": "execute_result"
    }
   ],
   "source": [
    "max(squared_list)"
   ]
  },
  {
   "cell_type": "code",
   "execution_count": 295,
   "id": "b0c81a8b",
   "metadata": {},
   "outputs": [],
   "source": [
    "mystring = 'hello'"
   ]
  },
  {
   "cell_type": "code",
   "execution_count": 296,
   "id": "391a2a75",
   "metadata": {},
   "outputs": [],
   "source": [
    "my_list = []"
   ]
  },
  {
   "cell_type": "code",
   "execution_count": 297,
   "id": "08d98584",
   "metadata": {},
   "outputs": [],
   "source": [
    "for letter in mystring:\n",
    "    my_list.append(letter)"
   ]
  },
  {
   "cell_type": "code",
   "execution_count": 298,
   "id": "2ac4cd59",
   "metadata": {},
   "outputs": [
    {
     "data": {
      "text/plain": [
       "['h', 'e', 'l', 'l', 'o']"
      ]
     },
     "execution_count": 298,
     "metadata": {},
     "output_type": "execute_result"
    }
   ],
   "source": [
    "my_list"
   ]
  },
  {
   "cell_type": "code",
   "execution_count": 301,
   "id": "c4f1f038",
   "metadata": {},
   "outputs": [],
   "source": [
    "my_list = [letter for letter in 'bye']"
   ]
  },
  {
   "cell_type": "code",
   "execution_count": 302,
   "id": "35497980",
   "metadata": {},
   "outputs": [
    {
     "data": {
      "text/plain": [
       "['b', 'y', 'e']"
      ]
     },
     "execution_count": 302,
     "metadata": {},
     "output_type": "execute_result"
    }
   ],
   "source": [
    "my_list"
   ]
  },
  {
   "cell_type": "code",
   "execution_count": 303,
   "id": "2062afb0",
   "metadata": {},
   "outputs": [],
   "source": [
    "numbered_list_comp = [num for num in range(0,11)]"
   ]
  },
  {
   "cell_type": "code",
   "execution_count": 304,
   "id": "c5dba7c6",
   "metadata": {},
   "outputs": [
    {
     "data": {
      "text/plain": [
       "[0, 1, 2, 3, 4, 5, 6, 7, 8, 9, 10]"
      ]
     },
     "execution_count": 304,
     "metadata": {},
     "output_type": "execute_result"
    }
   ],
   "source": [
    "numbered_list_comp"
   ]
  },
  {
   "cell_type": "code",
   "execution_count": 305,
   "id": "dfd155af",
   "metadata": {},
   "outputs": [],
   "source": [
    "even_list_comp = [x if x%2==0 else 'ODD' for x in range(0,11)]"
   ]
  },
  {
   "cell_type": "code",
   "execution_count": 306,
   "id": "5a146ae5",
   "metadata": {},
   "outputs": [
    {
     "data": {
      "text/plain": [
       "[0, 'ODD', 2, 'ODD', 4, 'ODD', 6, 'ODD', 8, 'ODD', 10]"
      ]
     },
     "execution_count": 306,
     "metadata": {},
     "output_type": "execute_result"
    }
   ],
   "source": [
    "even_list_comp"
   ]
  },
  {
   "cell_type": "code",
   "execution_count": 20,
   "id": "e920e3d7",
   "metadata": {},
   "outputs": [],
   "source": [
    "even_list_comp = [x for x in range(1,20) if x%2==0]"
   ]
  },
  {
   "cell_type": "code",
   "execution_count": 21,
   "id": "da12c448",
   "metadata": {},
   "outputs": [
    {
     "name": "stdout",
     "output_type": "stream",
     "text": [
      "[2, 4, 6, 8, 10, 12, 14, 16, 18]\n"
     ]
    }
   ],
   "source": [
    "print(even_list_comp)"
   ]
  },
  {
   "cell_type": "code",
   "execution_count": 309,
   "id": "e83e84ee",
   "metadata": {},
   "outputs": [],
   "source": [
    "friends_list = ['charles','martina','michael','florence','eli']"
   ]
  },
  {
   "cell_type": "code",
   "execution_count": 358,
   "id": "679d26dd",
   "metadata": {},
   "outputs": [
    {
     "name": "stdout",
     "output_type": "stream",
     "text": [
      "['martina']\n"
     ]
    }
   ],
   "source": [
    "print(friends_list[-4:-5:-1])"
   ]
  },
  {
   "cell_type": "code",
   "execution_count": 310,
   "id": "33879fe5",
   "metadata": {},
   "outputs": [
    {
     "name": "stdout",
     "output_type": "stream",
     "text": [
      "['charles', 'martina', 'michael']\n"
     ]
    }
   ],
   "source": [
    "print(friends_list[0:3])"
   ]
  },
  {
   "cell_type": "code",
   "execution_count": 312,
   "id": "73235db3",
   "metadata": {},
   "outputs": [
    {
     "name": "stdout",
     "output_type": "stream",
     "text": [
      "['charles', 'martina', 'michael', 'florence']\n"
     ]
    }
   ],
   "source": [
    "print(friends_list[:4])"
   ]
  },
  {
   "cell_type": "code",
   "execution_count": 322,
   "id": "ff2f8fbe",
   "metadata": {},
   "outputs": [
    {
     "name": "stdout",
     "output_type": "stream",
     "text": [
      "['michael', 'florence']\n"
     ]
    }
   ],
   "source": [
    "print(friends_list[-3:-1:])"
   ]
  },
  {
   "cell_type": "code",
   "execution_count": 327,
   "id": "427e1ac9",
   "metadata": {},
   "outputs": [
    {
     "name": "stdout",
     "output_type": "stream",
     "text": [
      "['eli', 'martina']\n"
     ]
    }
   ],
   "source": [
    "print(friends_list[::-3])"
   ]
  },
  {
   "cell_type": "code",
   "execution_count": 328,
   "id": "cefe6508",
   "metadata": {},
   "outputs": [
    {
     "data": {
      "text/plain": [
       "['charles', 'michael', 'eli']"
      ]
     },
     "execution_count": 328,
     "metadata": {},
     "output_type": "execute_result"
    }
   ],
   "source": [
    "friends_list[0:5:2]"
   ]
  },
  {
   "cell_type": "code",
   "execution_count": 332,
   "id": "f4e32af5",
   "metadata": {},
   "outputs": [
    {
     "data": {
      "text/plain": [
       "['eli']"
      ]
     },
     "execution_count": 332,
     "metadata": {},
     "output_type": "execute_result"
    }
   ],
   "source": [
    "friends_list[-1::]"
   ]
  },
  {
   "cell_type": "code",
   "execution_count": 333,
   "id": "54b0a7e1",
   "metadata": {},
   "outputs": [],
   "source": [
    "players  = ['charles','martina','michael','florence','eli']"
   ]
  },
  {
   "cell_type": "code",
   "execution_count": 334,
   "id": "769ebac5",
   "metadata": {},
   "outputs": [
    {
     "name": "stdout",
     "output_type": "stream",
     "text": [
      "here are the first three players on my team: \n",
      "charles\n",
      "martina\n",
      "michael\n"
     ]
    }
   ],
   "source": [
    "print('here are the first three players on my team: ')\n",
    "for player in players[:3]:\n",
    "    print(player)"
   ]
  },
  {
   "cell_type": "code",
   "execution_count": 364,
   "id": "a7e15949",
   "metadata": {},
   "outputs": [
    {
     "name": "stdout",
     "output_type": "stream",
     "text": [
      "the first three items in the list are : \n",
      "charles\n",
      "martina\n",
      "michael\n"
     ]
    }
   ],
   "source": [
    "print('the first three items in the list are : ')\n",
    "for player in players[0:3]:\n",
    "    print(player)"
   ]
  },
  {
   "cell_type": "code",
   "execution_count": 339,
   "id": "6587d8b0",
   "metadata": {},
   "outputs": [
    {
     "name": "stdout",
     "output_type": "stream",
     "text": [
      "the items from the middle of the list are: \n",
      "michael\n",
      "florence\n",
      "eli\n"
     ]
    }
   ],
   "source": [
    "print('the items from the middle of the list are: ')\n",
    "for player in players[2:]:\n",
    "    print(player)"
   ]
  },
  {
   "cell_type": "code",
   "execution_count": 350,
   "id": "c12b7335",
   "metadata": {},
   "outputs": [
    {
     "name": "stdout",
     "output_type": "stream",
     "text": [
      "the last three items of the list are: \n",
      "eli\n",
      "florence\n",
      "michael\n"
     ]
    }
   ],
   "source": [
    "print('the last three items of the list are: ')\n",
    "for player in players[:1:-1]:\n",
    "    print(player)"
   ]
  },
  {
   "cell_type": "markdown",
   "id": "60873fc2",
   "metadata": {},
   "source": [
    "## Tuples"
   ]
  },
  {
   "cell_type": "code",
   "execution_count": 365,
   "id": "efd56234",
   "metadata": {},
   "outputs": [],
   "source": [
    "dimensions = (200,50)"
   ]
  },
  {
   "cell_type": "code",
   "execution_count": 366,
   "id": "2a253f35",
   "metadata": {},
   "outputs": [
    {
     "name": "stdout",
     "output_type": "stream",
     "text": [
      "200\n"
     ]
    }
   ],
   "source": [
    "print(dimensions[0])"
   ]
  },
  {
   "cell_type": "code",
   "execution_count": 367,
   "id": "f4ebded6",
   "metadata": {},
   "outputs": [
    {
     "name": "stdout",
     "output_type": "stream",
     "text": [
      "50\n"
     ]
    }
   ],
   "source": [
    "print(dimensions[1])"
   ]
  },
  {
   "cell_type": "code",
   "execution_count": 369,
   "id": "966ac047",
   "metadata": {},
   "outputs": [],
   "source": [
    "# dimension[0] = 300"
   ]
  },
  {
   "cell_type": "code",
   "execution_count": 370,
   "id": "74f34013",
   "metadata": {},
   "outputs": [
    {
     "name": "stdout",
     "output_type": "stream",
     "text": [
      "200\n",
      "50\n"
     ]
    }
   ],
   "source": [
    "for dimension in dimensions:\n",
    "    print(dimension)"
   ]
  },
  {
   "cell_type": "markdown",
   "id": "30467e0b",
   "metadata": {},
   "source": [
    "# If Statements"
   ]
  },
  {
   "cell_type": "code",
   "execution_count": 1,
   "id": "e4f3f9a8",
   "metadata": {},
   "outputs": [
    {
     "name": "stdout",
     "output_type": "stream",
     "text": [
      "You are old enough to vote!\n"
     ]
    }
   ],
   "source": [
    "age = 18\n",
    "if age >= 18:\n",
    "    print('You are old enough to vote!')"
   ]
  },
  {
   "cell_type": "code",
   "execution_count": 2,
   "id": "fcf853f5",
   "metadata": {},
   "outputs": [
    {
     "name": "stdout",
     "output_type": "stream",
     "text": [
      "You are old enough to vote!\n",
      "Have you registered to vote yet?\n"
     ]
    }
   ],
   "source": [
    "age = 19\n",
    "if age >= 18:\n",
    "    print('You are old enough to vote!')\n",
    "    print('Have you registered to vote yet?')"
   ]
  },
  {
   "cell_type": "code",
   "execution_count": 3,
   "id": "4701cf8e",
   "metadata": {},
   "outputs": [
    {
     "name": "stdout",
     "output_type": "stream",
     "text": [
      "Sorry, you are too young to vote\n",
      "Please register to vote as soon as you turn 18!\n"
     ]
    }
   ],
   "source": [
    "age = 17\n",
    "if age >= 18:\n",
    "    print('You are old enough to vote')\n",
    "    print('Have you registered to vote yet?')\n",
    "else:\n",
    "    print('Sorry, you are too young to vote')\n",
    "    print('Please register to vote as soon as you turn 18!')"
   ]
  },
  {
   "cell_type": "code",
   "execution_count": 5,
   "id": "411c92bc",
   "metadata": {},
   "outputs": [
    {
     "name": "stdout",
     "output_type": "stream",
     "text": [
      "Your admission cost is $25\n"
     ]
    }
   ],
   "source": [
    "age = 12\n",
    "if age < 4:\n",
    "    print('Your admission cost is $0')\n",
    "elif age < 18:\n",
    "    print('Your admission cost is $25')\n",
    "else:\n",
    "    print('Your admission cost is $40')"
   ]
  },
  {
   "cell_type": "code",
   "execution_count": 9,
   "id": "d3170ccb",
   "metadata": {},
   "outputs": [
    {
     "name": "stdout",
     "output_type": "stream",
     "text": [
      "Your Admission cost is $25\n"
     ]
    }
   ],
   "source": [
    "age = 12\n",
    "if age < 4:\n",
    "    price = 0\n",
    "elif age < 18:\n",
    "    price = 25\n",
    "elif age < 65:\n",
    "    price = 40\n",
    "else:\n",
    "    price = 20\n",
    "print('Your Admission cost is $',price,sep = '')"
   ]
  },
  {
   "cell_type": "code",
   "execution_count": 10,
   "id": "7d1075bb",
   "metadata": {},
   "outputs": [
    {
     "name": "stdout",
     "output_type": "stream",
     "text": [
      "Adding mushrooms\n",
      "Adding extra cheese\n",
      "\n",
      "Finished making your pizza\n"
     ]
    }
   ],
   "source": [
    "requested_toppings = ['mushrooms','extra cheese']\n",
    "if 'mushrooms' in requested_toppings:\n",
    "    print('Adding mushrooms')\n",
    "if 'extra cheese' in requested_toppings:\n",
    "    print('Adding extra cheese')\n",
    "if 'pepporoni' in requested_toppings:\n",
    "    print('Adding pepporoni')\n",
    "print('\\nFinished making your pizza')"
   ]
  },
  {
   "cell_type": "code",
   "execution_count": 12,
   "id": "1134b700",
   "metadata": {},
   "outputs": [],
   "source": [
    "requested_toppings.append('green peppers')"
   ]
  },
  {
   "cell_type": "code",
   "execution_count": 13,
   "id": "d8d5e789",
   "metadata": {},
   "outputs": [
    {
     "data": {
      "text/plain": [
       "['mushrooms', 'extra cheese', 'green peppers']"
      ]
     },
     "execution_count": 13,
     "metadata": {},
     "output_type": "execute_result"
    }
   ],
   "source": [
    "requested_toppings"
   ]
  },
  {
   "cell_type": "code",
   "execution_count": 14,
   "id": "e97d6277",
   "metadata": {},
   "outputs": [
    {
     "name": "stdout",
     "output_type": "stream",
     "text": [
      "Adding mushrooms\n",
      "Adding extra cheese\n",
      "Adding green peppers\n",
      "\n",
      "Finished making your pizza\n"
     ]
    }
   ],
   "source": [
    "for requested_topping in requested_toppings:\n",
    "    print(f'Adding {requested_topping}')\n",
    "print('\\nFinished making your pizza')"
   ]
  },
  {
   "cell_type": "code",
   "execution_count": 17,
   "id": "a092b2af",
   "metadata": {},
   "outputs": [
    {
     "name": "stdout",
     "output_type": "stream",
     "text": [
      "Adding mushrooms\n",
      "Adding extra cheese\n",
      "Sorry, We are out of green peppers\n",
      "Finished making your pizza!\n"
     ]
    }
   ],
   "source": [
    "for requested_topping in requested_toppings:\n",
    "    if requested_topping == 'green peppers':\n",
    "        print('Sorry, We are out of green peppers')\n",
    "    else:\n",
    "        print(f'Adding {requested_topping}')\n",
    "print('Finished making your pizza!')"
   ]
  },
  {
   "cell_type": "code",
   "execution_count": 18,
   "id": "40178ec0",
   "metadata": {},
   "outputs": [
    {
     "name": "stdout",
     "output_type": "stream",
     "text": [
      "Are you sure you want a plain pizza!\n"
     ]
    }
   ],
   "source": [
    "requested_pizza_topping = []\n",
    "\n",
    "if requested_pizza_topping:\n",
    "    for topping in requested_pizza_topping:\n",
    "        print(f'Adding {topping}')\n",
    "    print('Finished making your pizza')\n",
    "else:\n",
    "    print('Are you sure you want a plain pizza!')"
   ]
  },
  {
   "cell_type": "markdown",
   "id": "edbc7714",
   "metadata": {},
   "source": [
    "## Dictionary"
   ]
  },
  {
   "cell_type": "code",
   "execution_count": 45,
   "id": "88193ba1",
   "metadata": {},
   "outputs": [
    {
     "name": "stdout",
     "output_type": "stream",
     "text": [
      "green\n",
      "5\n"
     ]
    }
   ],
   "source": [
    "alien_o = {'color': 'green', 'points' : 5}\n",
    "print(alien_o['color'])\n",
    "print(alien_o['points'])"
   ]
  },
  {
   "cell_type": "code",
   "execution_count": 46,
   "id": "e9488ae1",
   "metadata": {},
   "outputs": [],
   "source": [
    "new_points = alien_o['points']"
   ]
  },
  {
   "cell_type": "code",
   "execution_count": 47,
   "id": "38ecdfca",
   "metadata": {},
   "outputs": [
    {
     "name": "stdout",
     "output_type": "stream",
     "text": [
      "You just earned 5 points!\n"
     ]
    }
   ],
   "source": [
    "print(f'You just earned {new_points} points!')"
   ]
  },
  {
   "cell_type": "code",
   "execution_count": 48,
   "id": "3d1aa43e",
   "metadata": {},
   "outputs": [],
   "source": [
    "alien_o['x_positions'] = 0\n",
    "alien_o['y_positions'] = 25"
   ]
  },
  {
   "cell_type": "code",
   "execution_count": 49,
   "id": "15eeff17",
   "metadata": {},
   "outputs": [
    {
     "name": "stdout",
     "output_type": "stream",
     "text": [
      "{'color': 'green', 'points': 5, 'x_positions': 0, 'y_positions': 25}\n"
     ]
    }
   ],
   "source": [
    "print(alien_o)"
   ]
  },
  {
   "cell_type": "code",
   "execution_count": 50,
   "id": "f914cddb",
   "metadata": {},
   "outputs": [
    {
     "name": "stdout",
     "output_type": "stream",
     "text": [
      "the alien is green in color\n",
      "Now the alien is yellow in color\n"
     ]
    }
   ],
   "source": [
    "print(f\"the alien is {alien_o['color']} in color\")\n",
    "alien_o['color'] = 'yellow'\n",
    "print(f\"Now the alien is {alien_o['color']} in color\")"
   ]
  },
  {
   "cell_type": "code",
   "execution_count": 53,
   "id": "8471317a",
   "metadata": {},
   "outputs": [
    {
     "name": "stdout",
     "output_type": "stream",
     "text": [
      "Original Position of Alien: 0\n",
      "New Position: 3\n"
     ]
    }
   ],
   "source": [
    "alien_o = {'x_position':0,'y_position':25,'speed':'fast'}\n",
    "print(f\"Original Position of Alien: {alien_o['x_position']}\")\n",
    "if alien_o['speed'] == 'medium':\n",
    "    x_increament = 2\n",
    "elif alien_o['speed'] == 'slow':\n",
    "    x_increament = 1\n",
    "elif alien_o['speed'] == 'fast':\n",
    "    x_increament = 3\n",
    "alien_o['x_position'] = x_increament\n",
    "print(f\"New Position: {alien_o['x_position']}\")\n"
   ]
  },
  {
   "cell_type": "code",
   "execution_count": 54,
   "id": "c8ba4f55",
   "metadata": {},
   "outputs": [],
   "source": [
    "del alien_o['y_position']"
   ]
  },
  {
   "cell_type": "code",
   "execution_count": 55,
   "id": "cdf48eb0",
   "metadata": {},
   "outputs": [
    {
     "data": {
      "text/plain": [
       "{'x_position': 3, 'speed': 'fast'}"
      ]
     },
     "execution_count": 55,
     "metadata": {},
     "output_type": "execute_result"
    }
   ],
   "source": [
    "alien_o"
   ]
  },
  {
   "cell_type": "code",
   "execution_count": 56,
   "id": "41e57f70",
   "metadata": {},
   "outputs": [],
   "source": [
    "user_o = {'username': 'efermi','first':'enrico','last':'fermi'}"
   ]
  },
  {
   "cell_type": "raw",
   "id": "d0bf7bf3",
   "metadata": {},
   "source": [
    "for key,value in user_o.items():\n",
    "    print(f\"\\nKey: {key}\")\n",
    "    print(f\"Value: {value}\")"
   ]
  },
  {
   "cell_type": "code",
   "execution_count": 59,
   "id": "2587d690",
   "metadata": {},
   "outputs": [],
   "source": [
    "favourite_language = {'jen': 'python','sarah':'c','edwrad':'ruby', 'phil':'python'}"
   ]
  },
  {
   "cell_type": "code",
   "execution_count": 60,
   "id": "a21cab64",
   "metadata": {},
   "outputs": [
    {
     "name": "stdout",
     "output_type": "stream",
     "text": [
      "Jen's favourite language is Python \n",
      "Sarah's favourite language is C \n",
      "Edwrad's favourite language is Ruby \n",
      "Phil's favourite language is Python \n"
     ]
    }
   ],
   "source": [
    "for name,language in favourite_language.items():\n",
    "    print(f\"{name.title()}'s favourite language is {language.title()} \")"
   ]
  },
  {
   "cell_type": "code",
   "execution_count": 62,
   "id": "de4b7d23",
   "metadata": {},
   "outputs": [
    {
     "name": "stdout",
     "output_type": "stream",
     "text": [
      "Jen\n",
      "Sarah\n",
      "Edwrad\n",
      "Phil\n"
     ]
    }
   ],
   "source": [
    "for name in favourite_language.keys():\n",
    "    print(name.title())"
   ]
  },
  {
   "cell_type": "code",
   "execution_count": 63,
   "id": "1e639ada",
   "metadata": {},
   "outputs": [],
   "source": [
    "friends = ['phil','sarah']"
   ]
  },
  {
   "cell_type": "code",
   "execution_count": 66,
   "id": "d1fbdeb9",
   "metadata": {},
   "outputs": [
    {
     "name": "stdout",
     "output_type": "stream",
     "text": [
      "Hi Jen\n",
      "Hi Sarah\n",
      "Sarah, I see you love c\n",
      "Hi Edwrad\n",
      "Hi Phil\n",
      "Phil, I see you love python\n"
     ]
    }
   ],
   "source": [
    "for name in favourite_language.keys():\n",
    "    print(f'Hi {name.title()}')\n",
    "    if name in friends:\n",
    "        print(f\"{name.title()}, I see you love {favourite_language[name]}\")"
   ]
  },
  {
   "cell_type": "code",
   "execution_count": 67,
   "id": "6b8484f4",
   "metadata": {},
   "outputs": [
    {
     "name": "stdout",
     "output_type": "stream",
     "text": [
      "Python\n",
      "C\n",
      "Ruby\n",
      "Python\n"
     ]
    }
   ],
   "source": [
    "for language in favourite_language.values():\n",
    "    print(language.title())"
   ]
  },
  {
   "cell_type": "code",
   "execution_count": 68,
   "id": "c2219129",
   "metadata": {},
   "outputs": [
    {
     "name": "stdout",
     "output_type": "stream",
     "text": [
      "c\n",
      "ruby\n",
      "python\n"
     ]
    }
   ],
   "source": [
    "for language in set(favourite_language.values()):\n",
    "    print(language)"
   ]
  },
  {
   "cell_type": "code",
   "execution_count": 69,
   "id": "4e1fab49",
   "metadata": {},
   "outputs": [
    {
     "name": "stdout",
     "output_type": "stream",
     "text": [
      "[{'color': 'green', 'points': 5}, {'color': 'yellow', 'points': 10}, {'color': 'red', 'points': 15}]\n"
     ]
    }
   ],
   "source": [
    "alien_o = {'color':'green','points':5}\n",
    "alien_p = {'color':'yellow','points':10}\n",
    "alien_r = {'color':'red','points':15}\n",
    "aliens = [alien_o,alien_p,alien_r]\n",
    "print(aliens)"
   ]
  },
  {
   "cell_type": "code",
   "execution_count": 70,
   "id": "39152e5b",
   "metadata": {},
   "outputs": [
    {
     "name": "stdout",
     "output_type": "stream",
     "text": [
      "{'color': 'green', 'points': 5}\n",
      "{'color': 'yellow', 'points': 10}\n",
      "{'color': 'red', 'points': 15}\n"
     ]
    }
   ],
   "source": [
    "for alien in aliens:\n",
    "    print(alien)"
   ]
  },
  {
   "cell_type": "code",
   "execution_count": 72,
   "id": "3b39a8a9",
   "metadata": {},
   "outputs": [],
   "source": [
    "aliens = []\n",
    "for alien_number in range(30):\n",
    "    new_alien = {'color': 'green','points':5,'speed':'slow'}\n",
    "    aliens.append(new_alien)"
   ]
  },
  {
   "cell_type": "code",
   "execution_count": 74,
   "id": "4d3cc99e",
   "metadata": {},
   "outputs": [
    {
     "name": "stdout",
     "output_type": "stream",
     "text": [
      "{'color': 'green', 'points': 5, 'speed': 'slow'}\n",
      "{'color': 'green', 'points': 5, 'speed': 'slow'}\n",
      "{'color': 'green', 'points': 5, 'speed': 'slow'}\n",
      "{'color': 'green', 'points': 5, 'speed': 'slow'}\n",
      "{'color': 'green', 'points': 5, 'speed': 'slow'}\n",
      "Total Number of aliens: 30\n"
     ]
    }
   ],
   "source": [
    "for alien in aliens[:5]:\n",
    "    print(alien)\n",
    "print(f\"Total Number of aliens: {len(aliens)}\")"
   ]
  },
  {
   "cell_type": "code",
   "execution_count": 75,
   "id": "30b778ac",
   "metadata": {},
   "outputs": [
    {
     "data": {
      "text/plain": [
       "[{'color': 'green', 'points': 5, 'speed': 'slow'},\n",
       " {'color': 'green', 'points': 5, 'speed': 'slow'},\n",
       " {'color': 'green', 'points': 5, 'speed': 'slow'},\n",
       " {'color': 'green', 'points': 5, 'speed': 'slow'},\n",
       " {'color': 'green', 'points': 5, 'speed': 'slow'},\n",
       " {'color': 'green', 'points': 5, 'speed': 'slow'},\n",
       " {'color': 'green', 'points': 5, 'speed': 'slow'},\n",
       " {'color': 'green', 'points': 5, 'speed': 'slow'},\n",
       " {'color': 'green', 'points': 5, 'speed': 'slow'},\n",
       " {'color': 'green', 'points': 5, 'speed': 'slow'},\n",
       " {'color': 'green', 'points': 5, 'speed': 'slow'},\n",
       " {'color': 'green', 'points': 5, 'speed': 'slow'},\n",
       " {'color': 'green', 'points': 5, 'speed': 'slow'},\n",
       " {'color': 'green', 'points': 5, 'speed': 'slow'},\n",
       " {'color': 'green', 'points': 5, 'speed': 'slow'},\n",
       " {'color': 'green', 'points': 5, 'speed': 'slow'},\n",
       " {'color': 'green', 'points': 5, 'speed': 'slow'},\n",
       " {'color': 'green', 'points': 5, 'speed': 'slow'},\n",
       " {'color': 'green', 'points': 5, 'speed': 'slow'},\n",
       " {'color': 'green', 'points': 5, 'speed': 'slow'},\n",
       " {'color': 'green', 'points': 5, 'speed': 'slow'},\n",
       " {'color': 'green', 'points': 5, 'speed': 'slow'},\n",
       " {'color': 'green', 'points': 5, 'speed': 'slow'},\n",
       " {'color': 'green', 'points': 5, 'speed': 'slow'},\n",
       " {'color': 'green', 'points': 5, 'speed': 'slow'},\n",
       " {'color': 'green', 'points': 5, 'speed': 'slow'},\n",
       " {'color': 'green', 'points': 5, 'speed': 'slow'},\n",
       " {'color': 'green', 'points': 5, 'speed': 'slow'},\n",
       " {'color': 'green', 'points': 5, 'speed': 'slow'},\n",
       " {'color': 'green', 'points': 5, 'speed': 'slow'}]"
      ]
     },
     "execution_count": 75,
     "metadata": {},
     "output_type": "execute_result"
    }
   ],
   "source": [
    "aliens"
   ]
  },
  {
   "cell_type": "code",
   "execution_count": 77,
   "id": "19b0a555",
   "metadata": {},
   "outputs": [
    {
     "name": "stdout",
     "output_type": "stream",
     "text": [
      "{'color': 'green', 'points': 5, 'speed': 'slow'}\n",
      "{'color': 'green', 'points': 5, 'speed': 'slow'}\n",
      "{'color': 'green', 'points': 5, 'speed': 'slow'}\n"
     ]
    }
   ],
   "source": [
    "for alien in aliens[:3]:\n",
    "    print(alien)\n",
    "    if alien['color'] == 'green':\n",
    "        alien['color'] = 'red'\n",
    "        alien['points'] = 15\n",
    "        alien['speed'] = 'fast'"
   ]
  },
  {
   "cell_type": "code",
   "execution_count": 79,
   "id": "4027ae1b",
   "metadata": {},
   "outputs": [
    {
     "data": {
      "text/plain": [
       "[{'color': 'red', 'points': 15, 'speed': 'fast'},\n",
       " {'color': 'red', 'points': 15, 'speed': 'fast'},\n",
       " {'color': 'red', 'points': 15, 'speed': 'fast'},\n",
       " {'color': 'green', 'points': 5, 'speed': 'slow'},\n",
       " {'color': 'green', 'points': 5, 'speed': 'slow'},\n",
       " {'color': 'green', 'points': 5, 'speed': 'slow'},\n",
       " {'color': 'green', 'points': 5, 'speed': 'slow'},\n",
       " {'color': 'green', 'points': 5, 'speed': 'slow'},\n",
       " {'color': 'green', 'points': 5, 'speed': 'slow'},\n",
       " {'color': 'green', 'points': 5, 'speed': 'slow'},\n",
       " {'color': 'green', 'points': 5, 'speed': 'slow'},\n",
       " {'color': 'green', 'points': 5, 'speed': 'slow'},\n",
       " {'color': 'green', 'points': 5, 'speed': 'slow'},\n",
       " {'color': 'green', 'points': 5, 'speed': 'slow'},\n",
       " {'color': 'green', 'points': 5, 'speed': 'slow'},\n",
       " {'color': 'green', 'points': 5, 'speed': 'slow'},\n",
       " {'color': 'green', 'points': 5, 'speed': 'slow'},\n",
       " {'color': 'green', 'points': 5, 'speed': 'slow'},\n",
       " {'color': 'green', 'points': 5, 'speed': 'slow'},\n",
       " {'color': 'green', 'points': 5, 'speed': 'slow'},\n",
       " {'color': 'green', 'points': 5, 'speed': 'slow'},\n",
       " {'color': 'green', 'points': 5, 'speed': 'slow'},\n",
       " {'color': 'green', 'points': 5, 'speed': 'slow'},\n",
       " {'color': 'green', 'points': 5, 'speed': 'slow'},\n",
       " {'color': 'green', 'points': 5, 'speed': 'slow'},\n",
       " {'color': 'green', 'points': 5, 'speed': 'slow'},\n",
       " {'color': 'green', 'points': 5, 'speed': 'slow'},\n",
       " {'color': 'green', 'points': 5, 'speed': 'slow'},\n",
       " {'color': 'green', 'points': 5, 'speed': 'slow'},\n",
       " {'color': 'green', 'points': 5, 'speed': 'slow'}]"
      ]
     },
     "execution_count": 79,
     "metadata": {},
     "output_type": "execute_result"
    }
   ],
   "source": [
    "aliens"
   ]
  },
  {
   "cell_type": "code",
   "execution_count": 80,
   "id": "11cc8024",
   "metadata": {},
   "outputs": [],
   "source": [
    "country_keys = {1:'India',2:'China'}"
   ]
  },
  {
   "cell_type": "code",
   "execution_count": 82,
   "id": "670f5727",
   "metadata": {},
   "outputs": [],
   "source": [
    "country_keys.update({2:'USA'})"
   ]
  },
  {
   "cell_type": "code",
   "execution_count": 86,
   "id": "87ea86e0",
   "metadata": {},
   "outputs": [
    {
     "data": {
      "text/plain": [
       "'India'"
      ]
     },
     "execution_count": 86,
     "metadata": {},
     "output_type": "execute_result"
    }
   ],
   "source": [
    "country_keys.pop(1)"
   ]
  },
  {
   "cell_type": "code",
   "execution_count": 87,
   "id": "435de0e1",
   "metadata": {},
   "outputs": [
    {
     "data": {
      "text/plain": [
       "{2: 'USA'}"
      ]
     },
     "execution_count": 87,
     "metadata": {},
     "output_type": "execute_result"
    }
   ],
   "source": [
    "country_keys"
   ]
  },
  {
   "cell_type": "markdown",
   "id": "067b459c",
   "metadata": {},
   "source": [
    "## User Input and While Loops"
   ]
  },
  {
   "cell_type": "code",
   "execution_count": 2,
   "id": "b7d03a76",
   "metadata": {},
   "outputs": [
    {
     "name": "stdout",
     "output_type": "stream",
     "text": [
      "\n",
      "Enter 'quit' to end the programhi everyone\n",
      "hi everyone\n",
      "\n",
      "Enter 'quit' to end the programhi again everyone\n",
      "hi again everyone\n",
      "\n",
      "Enter 'quit' to end the programquit\n"
     ]
    }
   ],
   "source": [
    "prompt = '\\nTell me something and I will repeat it back to you'\n",
    "prompt = \"\\nEnter 'quit' to end the program\"\n",
    "message = ''\n",
    "while message!='quit':\n",
    "    message = input(prompt)\n",
    "    if message!='quit':\n",
    "        print(message)"
   ]
  },
  {
   "cell_type": "code",
   "execution_count": 3,
   "id": "396bfb4c",
   "metadata": {},
   "outputs": [
    {
     "name": "stdout",
     "output_type": "stream",
     "text": [
      "\n",
      "Enter 'quit' to end the programhi everyone\n",
      "hi everyone\n",
      "\n",
      "Enter 'quit' to end the programhi again everyone\n",
      "hi again everyone\n",
      "\n",
      "Enter 'quit' to end the programquit\n"
     ]
    }
   ],
   "source": [
    "active = True\n",
    "prompt = '\\nTell me something and I will repeat it back to you'\n",
    "prompt = \"\\nEnter 'quit' to end the program\"\n",
    "message = ''\n",
    "while active:\n",
    "    message = input(prompt)\n",
    "    if message != 'quit':\n",
    "        print(message)\n",
    "    else:\n",
    "        active = False\n",
    "    "
   ]
  },
  {
   "cell_type": "code",
   "execution_count": 4,
   "id": "0b720f1d",
   "metadata": {},
   "outputs": [
    {
     "name": "stdout",
     "output_type": "stream",
     "text": [
      "1\n",
      "3\n",
      "5\n",
      "7\n",
      "9\n"
     ]
    }
   ],
   "source": [
    "current_number = 0\n",
    "while current_number < 10:\n",
    "    current_number+=1\n",
    "    if current_number % 2 == 0:\n",
    "        continue\n",
    "    else:\n",
    "        print(current_number)"
   ]
  },
  {
   "cell_type": "code",
   "execution_count": 6,
   "id": "36af910b",
   "metadata": {},
   "outputs": [
    {
     "name": "stdout",
     "output_type": "stream",
     "text": [
      "verifying user: Ayush\n",
      "verifying user: Niharika\n",
      "verifying user: Siddhant\n",
      "\n",
      "The following user has been confirmed\n",
      "Ayush\n",
      "Niharika\n",
      "Siddhant\n"
     ]
    }
   ],
   "source": [
    "unconfirmed_user = ['Siddhant','Niharika','Ayush']\n",
    "confirmed_users = []\n",
    "while unconfirmed_user:\n",
    "    current_user = unconfirmed_user.pop()\n",
    "    print('verifying user:',current_user)\n",
    "    confirmed_users.append(current_user)\n",
    "print('\\nThe following user has been confirmed')\n",
    "for confirmed_user in confirmed_users:\n",
    "    print(confirmed_user)\n",
    "    "
   ]
  },
  {
   "cell_type": "markdown",
   "id": "f9d2b9a5",
   "metadata": {},
   "source": [
    "## Class"
   ]
  },
  {
   "cell_type": "code",
   "execution_count": 1,
   "id": "78c22248",
   "metadata": {},
   "outputs": [],
   "source": [
    "class Dog:\n",
    "    def __init__(self,name,age):\n",
    "        self.name = name\n",
    "        self.age = age\n",
    "    def sit(self):\n",
    "        print(f'{self.name} is sitting')\n",
    "    def roll_over(self):\n",
    "        print(f'{self.name} is rolled over')"
   ]
  },
  {
   "cell_type": "code",
   "execution_count": 2,
   "id": "d46d4f7d",
   "metadata": {},
   "outputs": [],
   "source": [
    "my_dog = Dog('Willie',6)"
   ]
  },
  {
   "cell_type": "code",
   "execution_count": 3,
   "id": "23dc030d",
   "metadata": {},
   "outputs": [
    {
     "name": "stdout",
     "output_type": "stream",
     "text": [
      "My Dog name is Willie\n"
     ]
    }
   ],
   "source": [
    "print(f'My Dog name is {my_dog.name}')"
   ]
  },
  {
   "cell_type": "code",
   "execution_count": 5,
   "id": "6471d0a2",
   "metadata": {},
   "outputs": [
    {
     "name": "stdout",
     "output_type": "stream",
     "text": [
      "My Dog age is 6 years old\n"
     ]
    }
   ],
   "source": [
    "print(f'My Dog age is {my_dog.age} years old')"
   ]
  },
  {
   "cell_type": "code",
   "execution_count": 6,
   "id": "e553f26e",
   "metadata": {},
   "outputs": [],
   "source": [
    "your_dog = Dog('Lucy',13)"
   ]
  },
  {
   "cell_type": "code",
   "execution_count": 8,
   "id": "786aaf74",
   "metadata": {},
   "outputs": [
    {
     "name": "stdout",
     "output_type": "stream",
     "text": [
      "Your Dog age is 13\n"
     ]
    }
   ],
   "source": [
    "print(f'Your Dog age is {your_dog.age}')"
   ]
  },
  {
   "cell_type": "code",
   "execution_count": 10,
   "id": "554fd766",
   "metadata": {},
   "outputs": [
    {
     "name": "stdout",
     "output_type": "stream",
     "text": [
      "Your Dog name is Lucy\n"
     ]
    }
   ],
   "source": [
    "print(f'Your Dog name is {your_dog.name}')"
   ]
  },
  {
   "cell_type": "code",
   "execution_count": 11,
   "id": "823aa4fc",
   "metadata": {},
   "outputs": [
    {
     "name": "stdout",
     "output_type": "stream",
     "text": [
      "Lucy is sitting\n"
     ]
    }
   ],
   "source": [
    "your_dog.sit()"
   ]
  },
  {
   "cell_type": "code",
   "execution_count": 12,
   "id": "9a0c5870",
   "metadata": {},
   "outputs": [],
   "source": [
    "class Car:\n",
    "    def __init__(self,make,model,year):\n",
    "        self.make = make\n",
    "        self.model = model\n",
    "        self.year = year\n",
    "    def get_descriptive_name(self):\n",
    "        long_name = f\"{self.year} {self.make} {self.model}\"\n",
    "        return long_name.title()"
   ]
  },
  {
   "cell_type": "code",
   "execution_count": 25,
   "id": "e51542e9",
   "metadata": {},
   "outputs": [],
   "source": [
    "my_new_car = Car('audi','a4',2019)"
   ]
  },
  {
   "cell_type": "code",
   "execution_count": 26,
   "id": "c4c11c98",
   "metadata": {},
   "outputs": [
    {
     "name": "stdout",
     "output_type": "stream",
     "text": [
      "2019 Audi A4\n"
     ]
    }
   ],
   "source": [
    "print(my_new_car.get_descriptive_name())"
   ]
  },
  {
   "cell_type": "code",
   "execution_count": 36,
   "id": "5c0d867e",
   "metadata": {},
   "outputs": [],
   "source": [
    "class Car:\n",
    "    def __init__(self,make,model,year):\n",
    "        self.make = make\n",
    "        self.model = model\n",
    "        self.year = year\n",
    "        self.odometer_reading = 0\n",
    "    def get_descriptive_name(self):\n",
    "        long_name = f\"{self.year} {self.make} {self.model}\"\n",
    "        return long_name.title()\n",
    "    def read_odometer(self):\n",
    "        print(f\"This car has {self.odometer_reading} miles on it\")\n",
    "    \n",
    "    def update_odometer(self,mileage):\n",
    "        if mileage >= self.odometer_reading:\n",
    "            self.odometer_reading = mileage\n",
    "        else:\n",
    "            print('You cant roll back an odometer')"
   ]
  },
  {
   "cell_type": "code",
   "execution_count": 37,
   "id": "7811f883",
   "metadata": {},
   "outputs": [
    {
     "data": {
      "text/plain": [
       "'2019 Audi A4'"
      ]
     },
     "execution_count": 37,
     "metadata": {},
     "output_type": "execute_result"
    }
   ],
   "source": [
    "my_new_car.get_descriptive_name()"
   ]
  },
  {
   "cell_type": "code",
   "execution_count": 38,
   "id": "10f5cfee",
   "metadata": {},
   "outputs": [
    {
     "name": "stdout",
     "output_type": "stream",
     "text": [
      "This car has 25 miles on it\n",
      "None\n"
     ]
    }
   ],
   "source": [
    "print(my_new_car.read_odometer())"
   ]
  },
  {
   "cell_type": "code",
   "execution_count": 39,
   "id": "1229de9d",
   "metadata": {},
   "outputs": [],
   "source": [
    "my_new_car.update_odometer(25)"
   ]
  },
  {
   "cell_type": "code",
   "execution_count": 40,
   "id": "4902dffd",
   "metadata": {},
   "outputs": [
    {
     "name": "stdout",
     "output_type": "stream",
     "text": [
      "25\n"
     ]
    }
   ],
   "source": [
    "print(my_new_car.odometer_reading)"
   ]
  },
  {
   "cell_type": "markdown",
   "id": "78f2fd8e",
   "metadata": {},
   "source": [
    "## Inheritance"
   ]
  },
  {
   "cell_type": "code",
   "execution_count": 48,
   "id": "f0a8f5b5",
   "metadata": {},
   "outputs": [],
   "source": [
    "class ElectricCar(Car):\n",
    "    def __init__(self,make,model,year):\n",
    "        super().__init__(make,model,year)\n",
    "        self.battery_size = 75\n",
    "    def describe_battery_size(self):\n",
    "        print(f'This car has a {self.battery_size}-KWH battery')\n",
    "    def get_descriptive_name(self):\n",
    "        return f\"{self.year} {self.make} {self.model} runs on a {self.battery_size} -KWH\""
   ]
  },
  {
   "cell_type": "code",
   "execution_count": 49,
   "id": "3e64a015",
   "metadata": {},
   "outputs": [
    {
     "name": "stdout",
     "output_type": "stream",
     "text": [
      "2019 tesla model S runs on a 75 -KWH\n"
     ]
    }
   ],
   "source": [
    "my_tesla = ElectricCar('tesla','model S',2019)\n",
    "print(my_tesla.get_descriptive_name())"
   ]
  },
  {
   "cell_type": "code",
   "execution_count": 50,
   "id": "3e5a985b",
   "metadata": {},
   "outputs": [
    {
     "name": "stdout",
     "output_type": "stream",
     "text": [
      "This car has a 75-KWH battery\n"
     ]
    }
   ],
   "source": [
    "my_tesla.describe_battery_size()"
   ]
  },
  {
   "cell_type": "code",
   "execution_count": null,
   "id": "660168a7",
   "metadata": {},
   "outputs": [],
   "source": []
  }
 ],
 "metadata": {
  "kernelspec": {
   "display_name": "Python 3",
   "language": "python",
   "name": "python3"
  },
  "language_info": {
   "codemirror_mode": {
    "name": "ipython",
    "version": 3
   },
   "file_extension": ".py",
   "mimetype": "text/x-python",
   "name": "python",
   "nbconvert_exporter": "python",
   "pygments_lexer": "ipython3",
   "version": "3.8.8"
  }
 },
 "nbformat": 4,
 "nbformat_minor": 5
}
