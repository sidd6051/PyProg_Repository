{
 "cells": [
  {
   "cell_type": "code",
   "execution_count": 1,
   "id": "3710588a",
   "metadata": {},
   "outputs": [
    {
     "name": "stdout",
     "output_type": "stream",
     "text": [
      "4\n"
     ]
    }
   ],
   "source": [
    "print(2+2)"
   ]
  },
  {
   "cell_type": "code",
   "execution_count": 2,
   "id": "9864d19b",
   "metadata": {},
   "outputs": [
    {
     "name": "stdout",
     "output_type": "stream",
     "text": [
      "Hello, World!\n"
     ]
    }
   ],
   "source": [
    "print('Hello, World!')"
   ]
  },
  {
   "cell_type": "code",
   "execution_count": 3,
   "id": "20edfb4c",
   "metadata": {},
   "outputs": [
    {
     "name": "stdout",
     "output_type": "stream",
     "text": [
      "five times a is 15 and 3 multiplied by a is 9\n",
      "five times a is  10 and 3 multiplied by a is 6\n"
     ]
    }
   ],
   "source": [
    "# assign a variable to a literal value\n",
    "a = 3\n",
    "print('five times a is',5*a,'and 3 multiplied by a is',3*a)\n",
    "a = 2\n",
    "print('five times a is ',5*a,'and 3 multiplied by a is',3*a)"
   ]
  },
  {
   "cell_type": "code",
   "execution_count": 4,
   "id": "17cf9d52",
   "metadata": {},
   "outputs": [
    {
     "name": "stdout",
     "output_type": "stream",
     "text": [
      "a is of type <class 'int'>\n",
      "c is of type <class 'float'> and its value is 0.9523809523809523\n",
      "d is of type <class 'float'> and its value is 0.9523809523809523\n"
     ]
    }
   ],
   "source": [
    "# we can also inspect the type of variables\n",
    "print('a is of type',type(a))\n",
    "b = 2.1\n",
    "c = float(a) / b\n",
    "print('c is of type',type(c),'and its value is',c)\n",
    "d = a / b\n",
    "print('d is of type',type(c),'and its value is',d)"
   ]
  },
  {
   "cell_type": "markdown",
   "id": "9e1f6bd6",
   "metadata": {},
   "source": [
    "# Collection of variables\n",
    "1. list\n",
    "2. tuple\n",
    "3. set\n",
    "4. dictionary"
   ]
  },
  {
   "cell_type": "code",
   "execution_count": 5,
   "id": "f6acf7e5",
   "metadata": {},
   "outputs": [
    {
     "name": "stdout",
     "output_type": "stream",
     "text": [
      "['Dan', 2, 3, 4, 'python', 2.71]\n",
      "Dan\n",
      "4\n",
      "2.71\n",
      "python\n",
      "6\n"
     ]
    }
   ],
   "source": [
    "# list is an ordered and indexed collection of values that are mutable and allows duplicates\n",
    "simple_list = ['Dan', 2, 3, 4, 'python', 2.71]\n",
    "print(simple_list)\n",
    "print(simple_list[0])\n",
    "print(simple_list[3])\n",
    "print(simple_list[-1])\n",
    "print(simple_list[-2])\n",
    "print(len(simple_list))"
   ]
  },
  {
   "cell_type": "code",
   "execution_count": 6,
   "id": "8cdd9b34",
   "metadata": {},
   "outputs": [
    {
     "name": "stdout",
     "output_type": "stream",
     "text": [
      "['Dan', 2, 3, 52, 'python', 2.71]\n",
      "Dan\n",
      "['Dan', 2, 3, 52, 'python', 2.71, 'to the back']\n",
      "7\n",
      "['Dan', 2, 3, 52, 2.71, 'to the back']\n"
     ]
    }
   ],
   "source": [
    "simple_list[3] = 52\n",
    "print(simple_list)\n",
    "print(simple_list[0])\n",
    "simple_list.append('to the back')\n",
    "print(simple_list)\n",
    "print(len(simple_list))\n",
    "simple_list.pop(4)\n",
    "print(simple_list)"
   ]
  },
  {
   "cell_type": "code",
   "execution_count": 7,
   "id": "129cdd77",
   "metadata": {},
   "outputs": [
    {
     "name": "stdout",
     "output_type": "stream",
     "text": [
      "[5, 5, 5, 5]\n"
     ]
    }
   ],
   "source": [
    "# it is easy to initialize a list of a particular size with all enteries the same\n",
    "repeated_list = [5]*4\n",
    "print(repeated_list)"
   ]
  },
  {
   "cell_type": "code",
   "execution_count": 8,
   "id": "f1de1544",
   "metadata": {},
   "outputs": [
    {
     "data": {
      "text/plain": [
       "['Dan', 2, 3, 52, 2.71, 'to the back']"
      ]
     },
     "execution_count": 8,
     "metadata": {},
     "output_type": "execute_result"
    }
   ],
   "source": [
    "simple_list"
   ]
  },
  {
   "cell_type": "code",
   "execution_count": 9,
   "id": "3808a6f2",
   "metadata": {},
   "outputs": [
    {
     "name": "stdout",
     "output_type": "stream",
     "text": [
      "['Dan', [1, 2, 3], 3, 52, 2.71, 'to the back']\n",
      "[1, 2, 3]\n",
      "2\n"
     ]
    }
   ],
   "source": [
    "simple_list[1] = [1,2,3]\n",
    "print(simple_list)\n",
    "print(simple_list[1])\n",
    "print(simple_list[1][1])"
   ]
  },
  {
   "cell_type": "code",
   "execution_count": 10,
   "id": "7f154ba9",
   "metadata": {},
   "outputs": [
    {
     "name": "stdout",
     "output_type": "stream",
     "text": [
      "['Dan', [1, 2, 3], 3, 52, 2.71, 'to the back']\n",
      "['Dan', [1, 2, 3], 3, 52, 2.71, 'to the back']\n",
      "['Dan', 0, 3, 52, 2.71, 'to the back']\n",
      "['Dan', 0, 3, 52, 2.71, 'to the back']\n"
     ]
    }
   ],
   "source": [
    "# copying list is little tricky\n",
    "list2 = simple_list\n",
    "print(list2)\n",
    "print(simple_list)\n",
    "list2[1] = 0\n",
    "print(list2)\n",
    "print(simple_list)"
   ]
  },
  {
   "cell_type": "code",
   "execution_count": 12,
   "id": "6394b26c",
   "metadata": {},
   "outputs": [
    {
     "name": "stdout",
     "output_type": "stream",
     "text": [
      "['Dan', 0, 3, 52, 2.71, 'to the back']\n",
      "['Dan', 0, 3, 52, 2.71, 'to the back']\n",
      "['Dan', 0, 3, 0, 2.71, 'to the back']\n",
      "['Dan', 0, 3, 52, 2.71, 'to the back']\n"
     ]
    }
   ],
   "source": [
    "# we can use copy() method to prevent this behavior\n",
    "list3 = simple_list.copy()\n",
    "print(list3)\n",
    "print(simple_list)\n",
    "list3[3] = 0\n",
    "print(list3)\n",
    "print(simple_list)"
   ]
  },
  {
   "cell_type": "code",
   "execution_count": 13,
   "id": "7736e54d",
   "metadata": {},
   "outputs": [
    {
     "name": "stdout",
     "output_type": "stream",
     "text": [
      "(12, 42, 11, 99, 2351)\n",
      "42\n"
     ]
    }
   ],
   "source": [
    "# a tuple is an ordered collection of values that are immutable and allows duplicates\n",
    "simple_tuple = (12,42,11,99,2351)\n",
    "print(simple_tuple)\n",
    "print(simple_tuple[1])"
   ]
  },
  {
   "cell_type": "code",
   "execution_count": 14,
   "id": "ba973e15",
   "metadata": {},
   "outputs": [],
   "source": [
    "# simple_tuple[0] = 5 ->Error "
   ]
  },
  {
   "cell_type": "code",
   "execution_count": 15,
   "id": "c7652097",
   "metadata": {},
   "outputs": [
    {
     "name": "stdout",
     "output_type": "stream",
     "text": [
      "(5, 42, 11, 99, 2351)\n"
     ]
    }
   ],
   "source": [
    "# work around for making changes in the tuple and making it act like a mutable DS\n",
    "dummy = list(simple_tuple)\n",
    "dummy[0] = 5\n",
    "simple_tuple = tuple(dummy)\n",
    "print(simple_tuple)"
   ]
  },
  {
   "cell_type": "code",
   "execution_count": 17,
   "id": "ec7d30df",
   "metadata": {},
   "outputs": [
    {
     "name": "stdout",
     "output_type": "stream",
     "text": [
      "{11, 'water', -2}\n"
     ]
    }
   ],
   "source": [
    "# a set is an unordered collection of values that are mutable and does not allow duplicates\n",
    "simple_set = {11,-2,'water',-2}\n",
    "print(simple_set)"
   ]
  },
  {
   "cell_type": "code",
   "execution_count": 19,
   "id": "756fd00a",
   "metadata": {},
   "outputs": [],
   "source": [
    "# print(simple_set[1]) -> Error"
   ]
  },
  {
   "cell_type": "code",
   "execution_count": 20,
   "id": "2ee1482a",
   "metadata": {},
   "outputs": [
    {
     "name": "stdout",
     "output_type": "stream",
     "text": [
      "True\n"
     ]
    }
   ],
   "source": [
    "print('water' in simple_set)"
   ]
  },
  {
   "cell_type": "code",
   "execution_count": 21,
   "id": "0ebeeba7",
   "metadata": {},
   "outputs": [
    {
     "data": {
      "text/plain": [
       "{-2, 11, 'water'}"
      ]
     },
     "execution_count": 21,
     "metadata": {},
     "output_type": "execute_result"
    }
   ],
   "source": [
    "simple_set"
   ]
  },
  {
   "cell_type": "code",
   "execution_count": 22,
   "id": "62e9c1b9",
   "metadata": {},
   "outputs": [
    {
     "name": "stdout",
     "output_type": "stream",
     "text": [
      "{72, 11, 'water', -2}\n",
      "{72, 11, -2}\n"
     ]
    }
   ],
   "source": [
    "simple_set.add(72)\n",
    "print(simple_set)\n",
    "simple_set.remove('water')\n",
    "print(simple_set)"
   ]
  },
  {
   "cell_type": "code",
   "execution_count": 24,
   "id": "d8747f81",
   "metadata": {},
   "outputs": [
    {
     "name": "stdout",
     "output_type": "stream",
     "text": [
      "{'brand': 'Apple', 'product': 'iphone', 'model': 'X'}\n",
      "I bought an iphone model X from Apple\n"
     ]
    }
   ],
   "source": [
    "# a dictionary is an unordered collection of values that are mutable \n",
    "simple_dict = {'brand': 'Apple','product': 'iphone', 'model':'X'}\n",
    "print(simple_dict)\n",
    "print('I bought an', simple_dict['product'],'model',simple_dict['model'],'from',simple_dict['brand'])"
   ]
  },
  {
   "cell_type": "code",
   "execution_count": 25,
   "id": "1448ed6d",
   "metadata": {},
   "outputs": [
    {
     "name": "stdout",
     "output_type": "stream",
     "text": [
      "I bought an iphone model 11 pro from Apple\n"
     ]
    }
   ],
   "source": [
    "simple_dict['model'] = '11 pro'\n",
    "print('I bought an', simple_dict['product'],'model',simple_dict['model'],'from',simple_dict['brand'])"
   ]
  },
  {
   "cell_type": "code",
   "execution_count": 27,
   "id": "7c586bc6",
   "metadata": {},
   "outputs": [
    {
     "name": "stdout",
     "output_type": "stream",
     "text": [
      "{'brand': 'Apple', 'product': 'iphone', 'model': '11 pro', 'color': 'black'}\n",
      "I bought a black iphone model 11 pro from Apple\n"
     ]
    }
   ],
   "source": [
    "simple_dict['color'] = 'black'\n",
    "print(simple_dict)\n",
    "print('I bought a',simple_dict['color'] ,simple_dict['product'],'model',simple_dict['model'],'from',simple_dict['brand'])"
   ]
  },
  {
   "cell_type": "markdown",
   "id": "19971e77",
   "metadata": {},
   "source": [
    "# Accessing Data in Lists with Indexing"
   ]
  },
  {
   "cell_type": "code",
   "execution_count": 28,
   "id": "76740728",
   "metadata": {},
   "outputs": [
    {
     "name": "stdout",
     "output_type": "stream",
     "text": [
      "[3, 4, 55]\n",
      "[3]\n",
      "[3, 4, 55, 1932]\n"
     ]
    }
   ],
   "source": [
    "simple_list = [1,2,3,4,55,1932,11]\n",
    "print(simple_list[2:5])\n",
    "print(simple_list[2:3])\n",
    "print(simple_list[-5:-1])"
   ]
  },
  {
   "cell_type": "markdown",
   "id": "085bf69d",
   "metadata": {},
   "source": [
    "# Flow Control\n",
    "1. Loops\n",
    "2. Conditionals"
   ]
  },
  {
   "cell_type": "markdown",
   "id": "a6ab46fe",
   "metadata": {},
   "source": [
    "## Loops \n",
    "- an efficient way to tell the computer to perform a command multiple times. Each iteration of the loop will use new data to perform the command or depend on the previous loop\n",
    "- 2 types of loop: for, while"
   ]
  },
  {
   "cell_type": "code",
   "execution_count": 30,
   "id": "1917079f",
   "metadata": {},
   "outputs": [
    {
     "name": "stdout",
     "output_type": "stream",
     "text": [
      "0\n",
      "1\n",
      "2\n",
      "3\n",
      "4\n",
      "5\n",
      "6\n",
      "2143\n",
      "123\n",
      "7834\n",
      "This line is not inside the loop\n",
      "The loop cycled 10 times\n"
     ]
    }
   ],
   "source": [
    "counter = 0\n",
    "simple_list = [0,1,2,3,4,5,6,2143,123,7834]\n",
    "for i in simple_list:\n",
    "    print(i)\n",
    "    counter = counter + 1\n",
    "print('This line is not inside the loop')\n",
    "print('The loop cycled',counter,'times')"
   ]
  },
  {
   "cell_type": "code",
   "execution_count": 31,
   "id": "0a2c3324",
   "metadata": {},
   "outputs": [
    {
     "name": "stdout",
     "output_type": "stream",
     "text": [
      "4\n",
      "5\n",
      "6\n",
      "outside if j loop\n",
      "8\n",
      "10\n",
      "12\n",
      "outside if j loop\n",
      "12\n",
      "15\n",
      "18\n",
      "outside if j loop\n",
      "outside of both loops\n"
     ]
    }
   ],
   "source": [
    "for i in simple_list[1:4]:\n",
    "    for j in simple_list[4:7]:\n",
    "        print(i*j)\n",
    "    print('outside if j loop')\n",
    "print('outside of both loops')"
   ]
  },
  {
   "cell_type": "code",
   "execution_count": 32,
   "id": "97aecc91",
   "metadata": {},
   "outputs": [
    {
     "name": "stdout",
     "output_type": "stream",
     "text": [
      "range(0, 6)\n"
     ]
    }
   ],
   "source": [
    "print(range(6))"
   ]
  },
  {
   "cell_type": "code",
   "execution_count": 33,
   "id": "2f95a145",
   "metadata": {},
   "outputs": [
    {
     "name": "stdout",
     "output_type": "stream",
     "text": [
      "0\n",
      "1\n",
      "2\n",
      "3\n",
      "4\n",
      "5\n"
     ]
    }
   ],
   "source": [
    "for i in range(6):\n",
    "    print(i)"
   ]
  },
  {
   "cell_type": "code",
   "execution_count": 34,
   "id": "8e0ac4be",
   "metadata": {},
   "outputs": [
    {
     "name": "stdout",
     "output_type": "stream",
     "text": [
      "4\n",
      "5\n",
      "6\n",
      "7\n",
      "8\n",
      "9\n"
     ]
    }
   ],
   "source": [
    "for i in range(4,10):\n",
    "    print(i)"
   ]
  },
  {
   "cell_type": "code",
   "execution_count": 35,
   "id": "1ca404d1",
   "metadata": {},
   "outputs": [
    {
     "name": "stdout",
     "output_type": "stream",
     "text": [
      "2\n",
      "5\n",
      "8\n"
     ]
    }
   ],
   "source": [
    "for i in range(2,10,3):\n",
    "    print(i)"
   ]
  },
  {
   "cell_type": "code",
   "execution_count": 36,
   "id": "0a7affd2",
   "metadata": {},
   "outputs": [
    {
     "name": "stdout",
     "output_type": "stream",
     "text": [
      "4\n",
      "5\n",
      "6\n",
      "7\n",
      "8\n",
      "9\n",
      "Outside of Loop\n"
     ]
    }
   ],
   "source": [
    "i = 4\n",
    "while i<10:\n",
    "    print(i)\n",
    "    i = i+1\n",
    "print('Outside of Loop')"
   ]
  },
  {
   "cell_type": "markdown",
   "id": "22a0fdc0",
   "metadata": {},
   "source": [
    "## Conditionals\n",
    "- if statement\n",
    "- else statement\n",
    "- elif statement"
   ]
  },
  {
   "cell_type": "code",
   "execution_count": 37,
   "id": "24c243d1",
   "metadata": {},
   "outputs": [
    {
     "name": "stdout",
     "output_type": "stream",
     "text": [
      "30 is greater than 10\n"
     ]
    }
   ],
   "source": [
    "i = 30\n",
    "if i<10:\n",
    "    print(i,'is less than 10')\n",
    "    print('run this also')\n",
    "else:\n",
    "    print(i,'is greater than 10')"
   ]
  },
  {
   "cell_type": "code",
   "execution_count": 38,
   "id": "2234e81f",
   "metadata": {},
   "outputs": [
    {
     "name": "stdout",
     "output_type": "stream",
     "text": [
      "3 is between 3 and 10\n"
     ]
    }
   ],
   "source": [
    "i = 3\n",
    "if i > 10:\n",
    "    print(i,'is greater than 10')\n",
    "elif i <3:\n",
    "    print(i,'is less than 3')\n",
    "elif i >4:\n",
    "    print(i)\n",
    "else:\n",
    "    print(i,'is between 3 and 10')"
   ]
  },
  {
   "cell_type": "code",
   "execution_count": null,
   "id": "ff2fc3c8",
   "metadata": {},
   "outputs": [],
   "source": []
  }
 ],
 "metadata": {
  "kernelspec": {
   "display_name": "Python 3",
   "language": "python",
   "name": "python3"
  },
  "language_info": {
   "codemirror_mode": {
    "name": "ipython",
    "version": 3
   },
   "file_extension": ".py",
   "mimetype": "text/x-python",
   "name": "python",
   "nbconvert_exporter": "python",
   "pygments_lexer": "ipython3",
   "version": "3.8.8"
  }
 },
 "nbformat": 4,
 "nbformat_minor": 5
}
