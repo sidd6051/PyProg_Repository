{
  "nbformat": 4,
  "nbformat_minor": 0,
  "metadata": {
    "colab": {
      "name": "Practice_Week1.ipynb",
      "provenance": [],
      "authorship_tag": "ABX9TyPqf2nTSmghhk2PWltSGsy3",
      "include_colab_link": true
    },
    "kernelspec": {
      "name": "python3",
      "display_name": "Python 3"
    },
    "language_info": {
      "name": "python"
    }
  },
  "cells": [
    {
      "cell_type": "markdown",
      "metadata": {
        "id": "view-in-github",
        "colab_type": "text"
      },
      "source": [
        "<a href=\"https://colab.research.google.com/github/sidd6051/PyProg_Repository/blob/main/Practice_Week1.ipynb\" target=\"_parent\"><img src=\"https://colab.research.google.com/assets/colab-badge.svg\" alt=\"Open In Colab\"/></a>"
      ]
    },
    {
      "cell_type": "code",
      "execution_count": null,
      "metadata": {
        "colab": {
          "base_uri": "https://localhost:8080/"
        },
        "id": "sAlED28EdNQb",
        "outputId": "4ce821cf-25a5-4c02-eadd-df8ef3484c82"
      },
      "outputs": [
        {
          "output_type": "stream",
          "name": "stdout",
          "text": [
            "Hello I am Siddhant\n"
          ]
        }
      ],
      "source": [
        "print('Hello I am','Siddhant')"
      ]
    },
    {
      "cell_type": "markdown",
      "source": [
        "#Intro to Variables"
      ],
      "metadata": {
        "id": "geDqn-i9BO80"
      }
    },
    {
      "cell_type": "code",
      "source": [
        "price = 100\n",
        "print(f'The Price of the mobile is ${price}')"
      ],
      "metadata": {
        "id": "BhrsUAhDBW-e",
        "outputId": "e2d2477b-4dd2-44e6-f583-331a20175a43",
        "colab": {
          "base_uri": "https://localhost:8080/"
        }
      },
      "execution_count": 4,
      "outputs": [
        {
          "output_type": "stream",
          "name": "stdout",
          "text": [
            "The Price of the mobile is $100\n"
          ]
        }
      ]
    },
    {
      "cell_type": "code",
      "source": [
        "brand = 'Apple'\n",
        "print('The brand of the mobile phone is',brand)"
      ],
      "metadata": {
        "id": "1NP_KChfBflY",
        "outputId": "a25b7c99-b972-4bf8-c12f-0a1b5186c6fb",
        "colab": {
          "base_uri": "https://localhost:8080/"
        }
      },
      "execution_count": 5,
      "outputs": [
        {
          "output_type": "stream",
          "name": "stdout",
          "text": [
            "The brand of the mobile phone is Apple\n"
          ]
        }
      ]
    },
    {
      "cell_type": "code",
      "source": [
        "ram = 4\n",
        "print('The RAM of the mobile is ',ram,'GB',sep = '')"
      ],
      "metadata": {
        "id": "JmZjPVBfB5EE",
        "outputId": "d7881960-980e-47c7-aa09-4a6351b0d441",
        "colab": {
          "base_uri": "https://localhost:8080/"
        }
      },
      "execution_count": 6,
      "outputs": [
        {
          "output_type": "stream",
          "name": "stdout",
          "text": [
            "The RAM of the mobile is 4GB\n"
          ]
        }
      ]
    },
    {
      "cell_type": "code",
      "source": [
        "storage = 128\n",
        "print('The internal storage of the mobile is ',storage,'GB',sep = '')"
      ],
      "metadata": {
        "id": "82neVNyQCKA8",
        "outputId": "9b6fc689-ac9a-4bdd-9e74-b6bad44b7760",
        "colab": {
          "base_uri": "https://localhost:8080/"
        }
      },
      "execution_count": 7,
      "outputs": [
        {
          "output_type": "stream",
          "name": "stdout",
          "text": [
            "The internal storage of the mobile is 128GB\n"
          ]
        }
      ]
    },
    {
      "cell_type": "code",
      "source": [
        "is_billed = True\n",
        "print(is_billed)"
      ],
      "metadata": {
        "id": "id4r3ZlGCTg-",
        "outputId": "faba6596-a457-4530-e1cf-37c4b4a139d8",
        "colab": {
          "base_uri": "https://localhost:8080/"
        }
      },
      "execution_count": 8,
      "outputs": [
        {
          "output_type": "stream",
          "name": "stdout",
          "text": [
            "True\n"
          ]
        }
      ]
    },
    {
      "cell_type": "code",
      "source": [
        "type(price)"
      ],
      "metadata": {
        "id": "kM8qlB1OCmSh",
        "outputId": "f287ba84-f384-4b07-e03c-d8bf64c09208",
        "colab": {
          "base_uri": "https://localhost:8080/"
        }
      },
      "execution_count": 9,
      "outputs": [
        {
          "output_type": "execute_result",
          "data": {
            "text/plain": [
              "int"
            ]
          },
          "metadata": {},
          "execution_count": 9
        }
      ]
    },
    {
      "cell_type": "code",
      "source": [
        "type(brand)"
      ],
      "metadata": {
        "id": "iL3yYRmEDhCW",
        "outputId": "77509a71-737d-400b-80aa-ae72b243fbd7",
        "colab": {
          "base_uri": "https://localhost:8080/"
        }
      },
      "execution_count": 10,
      "outputs": [
        {
          "output_type": "execute_result",
          "data": {
            "text/plain": [
              "str"
            ]
          },
          "metadata": {},
          "execution_count": 10
        }
      ]
    },
    {
      "cell_type": "code",
      "source": [
        "type(ram)"
      ],
      "metadata": {
        "id": "nRc_tEpDDrTT",
        "outputId": "c170350c-dc60-40b5-cfcb-b6b3803378c5",
        "colab": {
          "base_uri": "https://localhost:8080/"
        }
      },
      "execution_count": 11,
      "outputs": [
        {
          "output_type": "execute_result",
          "data": {
            "text/plain": [
              "int"
            ]
          },
          "metadata": {},
          "execution_count": 11
        }
      ]
    },
    {
      "cell_type": "code",
      "source": [
        "type(storage)"
      ],
      "metadata": {
        "id": "kFqpyYQLD4ap",
        "outputId": "d6de0a85-74da-43aa-ae6d-1011f6b84aa9",
        "colab": {
          "base_uri": "https://localhost:8080/"
        }
      },
      "execution_count": 12,
      "outputs": [
        {
          "output_type": "execute_result",
          "data": {
            "text/plain": [
              "int"
            ]
          },
          "metadata": {},
          "execution_count": 12
        }
      ]
    },
    {
      "cell_type": "code",
      "source": [
        "type(is_billed)"
      ],
      "metadata": {
        "id": "lnfcPuUUD5l8",
        "outputId": "b00c49ed-e426-463e-8ea0-8c658df78d5e",
        "colab": {
          "base_uri": "https://localhost:8080/"
        }
      },
      "execution_count": 13,
      "outputs": [
        {
          "output_type": "execute_result",
          "data": {
            "text/plain": [
              "bool"
            ]
          },
          "metadata": {},
          "execution_count": 13
        }
      ]
    },
    {
      "cell_type": "code",
      "source": [
        "bill = price + price\n",
        "print(f'The bill amount is : ${bill}')"
      ],
      "metadata": {
        "id": "pBwQX4qeD64G",
        "outputId": "459eefa9-180b-424f-b4f0-82d0fdbe7121",
        "colab": {
          "base_uri": "https://localhost:8080/"
        }
      },
      "execution_count": 17,
      "outputs": [
        {
          "output_type": "stream",
          "name": "stdout",
          "text": [
            "The bill amount is : $1800\n"
          ]
        }
      ]
    },
    {
      "cell_type": "code",
      "source": [
        "price = 900\n",
        "discount = 15\n",
        "price_after_discount = price - discount\n",
        "print(f'The price of the iphone after the discount is : ${price_after_discount}')"
      ],
      "metadata": {
        "id": "Nv1SIhqwELdB",
        "outputId": "ba64093f-d3eb-46cc-cce5-f05dc405d60e",
        "colab": {
          "base_uri": "https://localhost:8080/"
        }
      },
      "execution_count": 16,
      "outputs": [
        {
          "output_type": "stream",
          "name": "stdout",
          "text": [
            "The price of the iphone after the discount is : $885\n"
          ]
        }
      ]
    },
    {
      "cell_type": "code",
      "source": [
        "bill = 1800\n",
        "price = bill/2\n",
        "print(f'The price of an Apple is : ${price}')"
      ],
      "metadata": {
        "id": "bLGjf6kBEhxw",
        "outputId": "cd29a2a8-f53b-4700-a8d0-c124deddc9af",
        "colab": {
          "base_uri": "https://localhost:8080/"
        }
      },
      "execution_count": 18,
      "outputs": [
        {
          "output_type": "stream",
          "name": "stdout",
          "text": [
            "The price of an Apple is : $900.0\n"
          ]
        }
      ]
    },
    {
      "cell_type": "code",
      "source": [
        "bill = 3600\n",
        "price = 900\n",
        "x = bill//price\n",
        "print(f'The customer buys {x} iphones')"
      ],
      "metadata": {
        "id": "SJN53o-5ExAQ",
        "outputId": "60cefe4a-1eb7-487f-9db0-f33fa8b730a0",
        "colab": {
          "base_uri": "https://localhost:8080/"
        }
      },
      "execution_count": 20,
      "outputs": [
        {
          "output_type": "stream",
          "name": "stdout",
          "text": [
            "The customer buys 4 iphones\n"
          ]
        }
      ]
    },
    {
      "cell_type": "code",
      "source": [
        "price = 900\n",
        "discount = price*0.045\n",
        "discounted_price = price - discount\n",
        "print('The discounted price of the iphone is: $'+str(discounted_price),sep = '')"
      ],
      "metadata": {
        "id": "KGfYLRkGFByQ",
        "outputId": "b413ef1a-2e82-46fb-aeae-7cd00e8119f6",
        "colab": {
          "base_uri": "https://localhost:8080/"
        }
      },
      "execution_count": 27,
      "outputs": [
        {
          "output_type": "stream",
          "name": "stdout",
          "text": [
            "The discounted price of the iphone is: $859.5\n"
          ]
        }
      ]
    },
    {
      "cell_type": "code",
      "source": [
        "print('The data type of variable price is:',type(price))\n",
        "print('The data type of variable discount is: ',type(discount))"
      ],
      "metadata": {
        "id": "g6y5MuUwG5z3",
        "outputId": "8659aff0-9d22-4820-dd98-573031447972",
        "colab": {
          "base_uri": "https://localhost:8080/"
        }
      },
      "execution_count": 25,
      "outputs": [
        {
          "output_type": "stream",
          "name": "stdout",
          "text": [
            "The data type of variable price is: <class 'int'>\n",
            "The data type of variable discount is:  <class 'float'>\n"
          ]
        }
      ]
    },
    {
      "cell_type": "code",
      "source": [
        "print('Brand' + ' ' + str(ram) + 'GB')"
      ],
      "metadata": {
        "id": "YUjDJWv6HU1T",
        "outputId": "161cd688-a653-4ba5-edde-fce6ed1bb9d2",
        "colab": {
          "base_uri": "https://localhost:8080/"
        }
      },
      "execution_count": 29,
      "outputs": [
        {
          "output_type": "stream",
          "name": "stdout",
          "text": [
            "Brand 4GB\n"
          ]
        }
      ]
    },
    {
      "cell_type": "code",
      "source": [
        ""
      ],
      "metadata": {
        "id": "ukTRJ4VjIiZU"
      },
      "execution_count": null,
      "outputs": []
    }
  ]
}