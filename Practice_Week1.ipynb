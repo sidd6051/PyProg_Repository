{
  "nbformat": 4,
  "nbformat_minor": 0,
  "metadata": {
    "colab": {
      "name": "Practice_Week1.ipynb",
      "provenance": [],
      "authorship_tag": "ABX9TyPEAB/tNq+RpWSzt/CwStqS",
      "include_colab_link": true
    },
    "kernelspec": {
      "name": "python3",
      "display_name": "Python 3"
    },
    "language_info": {
      "name": "python"
    }
  },
  "cells": [
    {
      "cell_type": "markdown",
      "metadata": {
        "id": "view-in-github",
        "colab_type": "text"
      },
      "source": [
        "<a href=\"https://colab.research.google.com/github/sidd6051/PyProg_Repository/blob/main/Practice_Week1.ipynb\" target=\"_parent\"><img src=\"https://colab.research.google.com/assets/colab-badge.svg\" alt=\"Open In Colab\"/></a>"
      ]
    },
    {
      "cell_type": "code",
      "execution_count": 1,
      "metadata": {
        "colab": {
          "base_uri": "https://localhost:8080/"
        },
        "id": "sAlED28EdNQb",
        "outputId": "4ce821cf-25a5-4c02-eadd-df8ef3484c82"
      },
      "outputs": [
        {
          "output_type": "stream",
          "name": "stdout",
          "text": [
            "Hello I am Siddhant\n"
          ]
        }
      ],
      "source": [
        "print('Hello I am','Siddhant')"
      ]
    },
    {
      "cell_type": "code",
      "source": [
        ""
      ],
      "metadata": {
        "id": "JpzFjKKTd-jX"
      },
      "execution_count": null,
      "outputs": []
    }
  ]
}