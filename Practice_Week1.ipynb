{
  "nbformat": 4,
  "nbformat_minor": 0,
  "metadata": {
    "colab": {
      "name": "Practice_Week1.ipynb",
      "provenance": [],
      "authorship_tag": "ABX9TyMBghLMlxfo7CcClgbPTm5u",
      "include_colab_link": true
    },
    "kernelspec": {
      "name": "python3",
      "display_name": "Python 3"
    },
    "language_info": {
      "name": "python"
    }
  },
  "cells": [
    {
      "cell_type": "markdown",
      "metadata": {
        "id": "view-in-github",
        "colab_type": "text"
      },
      "source": [
        "<a href=\"https://colab.research.google.com/github/sidd6051/PyProg_Repository/blob/main/Practice_Week1.ipynb\" target=\"_parent\"><img src=\"https://colab.research.google.com/assets/colab-badge.svg\" alt=\"Open In Colab\"/></a>"
      ]
    },
    {
      "cell_type": "code",
      "execution_count": null,
      "metadata": {
        "colab": {
          "base_uri": "https://localhost:8080/"
        },
        "id": "sAlED28EdNQb",
        "outputId": "4ce821cf-25a5-4c02-eadd-df8ef3484c82"
      },
      "outputs": [
        {
          "output_type": "stream",
          "name": "stdout",
          "text": [
            "Hello I am Siddhant\n"
          ]
        }
      ],
      "source": [
        "print('Hello I am','Siddhant')"
      ]
    },
    {
      "cell_type": "markdown",
      "source": [
        "#Intro to Variables"
      ],
      "metadata": {
        "id": "geDqn-i9BO80"
      }
    },
    {
      "cell_type": "code",
      "source": [
        "price = 100\n",
        "print(f'The Price of the mobile is ${price}')"
      ],
      "metadata": {
        "colab": {
          "base_uri": "https://localhost:8080/"
        },
        "id": "BhrsUAhDBW-e",
        "outputId": "e2d2477b-4dd2-44e6-f583-331a20175a43"
      },
      "execution_count": 4,
      "outputs": [
        {
          "output_type": "stream",
          "name": "stdout",
          "text": [
            "The Price of the mobile is $100\n"
          ]
        }
      ]
    },
    {
      "cell_type": "code",
      "source": [
        "brand = 'Apple'\n",
        "print('The brand of the mobile phone is',brand)"
      ],
      "metadata": {
        "colab": {
          "base_uri": "https://localhost:8080/"
        },
        "id": "1NP_KChfBflY",
        "outputId": "a25b7c99-b972-4bf8-c12f-0a1b5186c6fb"
      },
      "execution_count": 5,
      "outputs": [
        {
          "output_type": "stream",
          "name": "stdout",
          "text": [
            "The brand of the mobile phone is Apple\n"
          ]
        }
      ]
    },
    {
      "cell_type": "code",
      "source": [
        "ram = 4\n",
        "print('The RAM of the mobile is ',ram,'GB',sep = '')"
      ],
      "metadata": {
        "colab": {
          "base_uri": "https://localhost:8080/"
        },
        "id": "JmZjPVBfB5EE",
        "outputId": "d7881960-980e-47c7-aa09-4a6351b0d441"
      },
      "execution_count": 6,
      "outputs": [
        {
          "output_type": "stream",
          "name": "stdout",
          "text": [
            "The RAM of the mobile is 4GB\n"
          ]
        }
      ]
    },
    {
      "cell_type": "code",
      "source": [
        "storage = 128\n",
        "print('The internal storage of the mobile is ',storage,'GB',sep = '')"
      ],
      "metadata": {
        "colab": {
          "base_uri": "https://localhost:8080/"
        },
        "id": "82neVNyQCKA8",
        "outputId": "9b6fc689-ac9a-4bdd-9e74-b6bad44b7760"
      },
      "execution_count": 7,
      "outputs": [
        {
          "output_type": "stream",
          "name": "stdout",
          "text": [
            "The internal storage of the mobile is 128GB\n"
          ]
        }
      ]
    },
    {
      "cell_type": "code",
      "source": [
        "is_billed = True\n",
        "print(is_billed)"
      ],
      "metadata": {
        "colab": {
          "base_uri": "https://localhost:8080/"
        },
        "id": "id4r3ZlGCTg-",
        "outputId": "faba6596-a457-4530-e1cf-37c4b4a139d8"
      },
      "execution_count": 8,
      "outputs": [
        {
          "output_type": "stream",
          "name": "stdout",
          "text": [
            "True\n"
          ]
        }
      ]
    },
    {
      "cell_type": "code",
      "source": [
        "type(price)"
      ],
      "metadata": {
        "colab": {
          "base_uri": "https://localhost:8080/"
        },
        "id": "kM8qlB1OCmSh",
        "outputId": "f287ba84-f384-4b07-e03c-d8bf64c09208"
      },
      "execution_count": 9,
      "outputs": [
        {
          "output_type": "execute_result",
          "data": {
            "text/plain": [
              "int"
            ]
          },
          "metadata": {},
          "execution_count": 9
        }
      ]
    },
    {
      "cell_type": "code",
      "source": [
        "type(brand)"
      ],
      "metadata": {
        "colab": {
          "base_uri": "https://localhost:8080/"
        },
        "id": "iL3yYRmEDhCW",
        "outputId": "77509a71-737d-400b-80aa-ae72b243fbd7"
      },
      "execution_count": 10,
      "outputs": [
        {
          "output_type": "execute_result",
          "data": {
            "text/plain": [
              "str"
            ]
          },
          "metadata": {},
          "execution_count": 10
        }
      ]
    },
    {
      "cell_type": "code",
      "source": [
        "type(ram)"
      ],
      "metadata": {
        "colab": {
          "base_uri": "https://localhost:8080/"
        },
        "id": "nRc_tEpDDrTT",
        "outputId": "c170350c-dc60-40b5-cfcb-b6b3803378c5"
      },
      "execution_count": 11,
      "outputs": [
        {
          "output_type": "execute_result",
          "data": {
            "text/plain": [
              "int"
            ]
          },
          "metadata": {},
          "execution_count": 11
        }
      ]
    },
    {
      "cell_type": "code",
      "source": [
        "type(storage)"
      ],
      "metadata": {
        "colab": {
          "base_uri": "https://localhost:8080/"
        },
        "id": "kFqpyYQLD4ap",
        "outputId": "d6de0a85-74da-43aa-ae6d-1011f6b84aa9"
      },
      "execution_count": 12,
      "outputs": [
        {
          "output_type": "execute_result",
          "data": {
            "text/plain": [
              "int"
            ]
          },
          "metadata": {},
          "execution_count": 12
        }
      ]
    },
    {
      "cell_type": "code",
      "source": [
        "type(is_billed)"
      ],
      "metadata": {
        "colab": {
          "base_uri": "https://localhost:8080/"
        },
        "id": "lnfcPuUUD5l8",
        "outputId": "b00c49ed-e426-463e-8ea0-8c658df78d5e"
      },
      "execution_count": 13,
      "outputs": [
        {
          "output_type": "execute_result",
          "data": {
            "text/plain": [
              "bool"
            ]
          },
          "metadata": {},
          "execution_count": 13
        }
      ]
    },
    {
      "cell_type": "code",
      "source": [
        "bill = price + price\n",
        "print(f'The bill amount is : ${bill}')"
      ],
      "metadata": {
        "colab": {
          "base_uri": "https://localhost:8080/"
        },
        "id": "pBwQX4qeD64G",
        "outputId": "459eefa9-180b-424f-b4f0-82d0fdbe7121"
      },
      "execution_count": 17,
      "outputs": [
        {
          "output_type": "stream",
          "name": "stdout",
          "text": [
            "The bill amount is : $1800\n"
          ]
        }
      ]
    },
    {
      "cell_type": "code",
      "source": [
        "price = 900\n",
        "discount = 15\n",
        "price_after_discount = price - discount\n",
        "print(f'The price of the iphone after the discount is : ${price_after_discount}')"
      ],
      "metadata": {
        "colab": {
          "base_uri": "https://localhost:8080/"
        },
        "id": "Nv1SIhqwELdB",
        "outputId": "ba64093f-d3eb-46cc-cce5-f05dc405d60e"
      },
      "execution_count": 16,
      "outputs": [
        {
          "output_type": "stream",
          "name": "stdout",
          "text": [
            "The price of the iphone after the discount is : $885\n"
          ]
        }
      ]
    },
    {
      "cell_type": "code",
      "source": [
        "bill = 1800\n",
        "price = bill/2\n",
        "print(f'The price of an Apple is : ${price}')"
      ],
      "metadata": {
        "colab": {
          "base_uri": "https://localhost:8080/"
        },
        "id": "bLGjf6kBEhxw",
        "outputId": "cd29a2a8-f53b-4700-a8d0-c124deddc9af"
      },
      "execution_count": 18,
      "outputs": [
        {
          "output_type": "stream",
          "name": "stdout",
          "text": [
            "The price of an Apple is : $900.0\n"
          ]
        }
      ]
    },
    {
      "cell_type": "code",
      "source": [
        "bill = 3600\n",
        "price = 900\n",
        "x = bill//price\n",
        "print(f'The customer buys {x} iphones')"
      ],
      "metadata": {
        "colab": {
          "base_uri": "https://localhost:8080/"
        },
        "id": "SJN53o-5ExAQ",
        "outputId": "60cefe4a-1eb7-487f-9db0-f33fa8b730a0"
      },
      "execution_count": 20,
      "outputs": [
        {
          "output_type": "stream",
          "name": "stdout",
          "text": [
            "The customer buys 4 iphones\n"
          ]
        }
      ]
    },
    {
      "cell_type": "code",
      "source": [
        "price = 900\n",
        "discount = price*0.045\n",
        "discounted_price = price - discount\n",
        "print('The discounted price of the iphone is: $'+str(discounted_price),sep = '')"
      ],
      "metadata": {
        "colab": {
          "base_uri": "https://localhost:8080/"
        },
        "id": "KGfYLRkGFByQ",
        "outputId": "b413ef1a-2e82-46fb-aeae-7cd00e8119f6"
      },
      "execution_count": 27,
      "outputs": [
        {
          "output_type": "stream",
          "name": "stdout",
          "text": [
            "The discounted price of the iphone is: $859.5\n"
          ]
        }
      ]
    },
    {
      "cell_type": "code",
      "source": [
        "print('The data type of variable price is:',type(price))\n",
        "print('The data type of variable discount is: ',type(discount))"
      ],
      "metadata": {
        "colab": {
          "base_uri": "https://localhost:8080/"
        },
        "id": "g6y5MuUwG5z3",
        "outputId": "8659aff0-9d22-4820-dd98-573031447972"
      },
      "execution_count": 25,
      "outputs": [
        {
          "output_type": "stream",
          "name": "stdout",
          "text": [
            "The data type of variable price is: <class 'int'>\n",
            "The data type of variable discount is:  <class 'float'>\n"
          ]
        }
      ]
    },
    {
      "cell_type": "code",
      "source": [
        "print('Brand' + ' ' + str(ram) + 'GB')"
      ],
      "metadata": {
        "colab": {
          "base_uri": "https://localhost:8080/"
        },
        "id": "YUjDJWv6HU1T",
        "outputId": "161cd688-a653-4ba5-edde-fce6ed1bb9d2"
      },
      "execution_count": 29,
      "outputs": [
        {
          "output_type": "stream",
          "name": "stdout",
          "text": [
            "Brand 4GB\n"
          ]
        }
      ]
    },
    {
      "cell_type": "markdown",
      "source": [
        "#Data Structures"
      ],
      "metadata": {
        "id": "Vy4dn6EBRiDq"
      }
    },
    {
      "cell_type": "code",
      "source": [
        "Brand = 'Apple'\n",
        "print(Brand)"
      ],
      "metadata": {
        "id": "-rHQ14xnRl2a",
        "outputId": "60ba1b2b-3e45-4cae-b43a-8ac2897e1ce7",
        "colab": {
          "base_uri": "https://localhost:8080/"
        }
      },
      "execution_count": 1,
      "outputs": [
        {
          "output_type": "stream",
          "name": "stdout",
          "text": [
            "Apple\n"
          ]
        }
      ]
    },
    {
      "cell_type": "markdown",
      "source": [
        "##List"
      ],
      "metadata": {
        "id": "bGoXp6b9SOm8"
      }
    },
    {
      "cell_type": "code",
      "source": [
        "brand_list = ['Apple','Samsung','LG','Apple']\n",
        "brand_list"
      ],
      "metadata": {
        "id": "iVYRLreFR0s7",
        "outputId": "d124a6e0-e8fc-427d-f952-f1f4f72cfa4f",
        "colab": {
          "base_uri": "https://localhost:8080/"
        }
      },
      "execution_count": 9,
      "outputs": [
        {
          "output_type": "execute_result",
          "data": {
            "text/plain": [
              "['Apple', 'Samsung', 'LG', 'Apple']"
            ]
          },
          "metadata": {},
          "execution_count": 9
        }
      ]
    },
    {
      "cell_type": "code",
      "source": [
        "type(brand_list)"
      ],
      "metadata": {
        "id": "0GE3mZVNR9g1",
        "outputId": "3d06fca5-d518-4e7a-a571-78becb563dd0",
        "colab": {
          "base_uri": "https://localhost:8080/"
        }
      },
      "execution_count": 3,
      "outputs": [
        {
          "output_type": "execute_result",
          "data": {
            "text/plain": [
              "list"
            ]
          },
          "metadata": {},
          "execution_count": 3
        }
      ]
    },
    {
      "cell_type": "code",
      "source": [
        "ram_list = [4,12,8,8]\n",
        "storage_list = [128,128,64,128]\n",
        "price_list = [900,899,600,1000]"
      ],
      "metadata": {
        "id": "AoYr0JmwSUx3"
      },
      "execution_count": 10,
      "outputs": []
    },
    {
      "cell_type": "code",
      "source": [
        "print('RAM list:',ram_list)\n",
        "print('Storage list:',storage_list)\n",
        "print('Price list:',price_list)"
      ],
      "metadata": {
        "id": "6SrnJIYuSnSj",
        "outputId": "1d27cbef-2191-4fff-e5f3-0df90fcd42f2",
        "colab": {
          "base_uri": "https://localhost:8080/"
        }
      },
      "execution_count": 8,
      "outputs": [
        {
          "output_type": "stream",
          "name": "stdout",
          "text": [
            "RAM list: [4, 12, 8, 8]\n",
            "Storage list: [128, 128, 64, 128]\n",
            "Price list: [900, 899, 600, 1000]\n"
          ]
        }
      ]
    },
    {
      "cell_type": "code",
      "source": [
        "len(brand_list)"
      ],
      "metadata": {
        "id": "eVaUWXy9S2Xf",
        "outputId": "446ebe9f-b719-40b4-ea93-eab0db2ff144",
        "colab": {
          "base_uri": "https://localhost:8080/"
        }
      },
      "execution_count": 9,
      "outputs": [
        {
          "output_type": "execute_result",
          "data": {
            "text/plain": [
              "4"
            ]
          },
          "metadata": {},
          "execution_count": 9
        }
      ]
    },
    {
      "cell_type": "code",
      "source": [
        "min_price = min(price_list)"
      ],
      "metadata": {
        "id": "-5SbbJH3THuN"
      },
      "execution_count": 10,
      "outputs": []
    },
    {
      "cell_type": "code",
      "source": [
        "print('The minimum price is $'+str(min_price))"
      ],
      "metadata": {
        "id": "wNPA8N-BTMwh",
        "outputId": "cdd8838b-c780-42aa-f044-ac98e1744672",
        "colab": {
          "base_uri": "https://localhost:8080/"
        }
      },
      "execution_count": 11,
      "outputs": [
        {
          "output_type": "stream",
          "name": "stdout",
          "text": [
            "The minimum price is $600\n"
          ]
        }
      ]
    },
    {
      "cell_type": "code",
      "source": [
        "max_price = max(price_list)\n",
        "print('The maximum price is $'+str(max_price))"
      ],
      "metadata": {
        "id": "DGaewZ2PTVuk",
        "outputId": "24a15661-9fe4-4a4c-e411-cef60a028412",
        "colab": {
          "base_uri": "https://localhost:8080/"
        }
      },
      "execution_count": 12,
      "outputs": [
        {
          "output_type": "stream",
          "name": "stdout",
          "text": [
            "The maximum price is $1000\n"
          ]
        }
      ]
    },
    {
      "cell_type": "code",
      "source": [
        "print(brand_list[2])"
      ],
      "metadata": {
        "id": "UWEmMLBDTebc",
        "outputId": "8f0cb55d-0414-486e-e552-9310e15ab016",
        "colab": {
          "base_uri": "https://localhost:8080/"
        }
      },
      "execution_count": 13,
      "outputs": [
        {
          "output_type": "stream",
          "name": "stdout",
          "text": [
            "LG\n"
          ]
        }
      ]
    },
    {
      "cell_type": "code",
      "source": [
        "print(brand_list[0:3])"
      ],
      "metadata": {
        "id": "vUPTVsS2ToGm",
        "outputId": "93cb7825-69bf-499c-b5ea-109c5a33bc12",
        "colab": {
          "base_uri": "https://localhost:8080/"
        }
      },
      "execution_count": 14,
      "outputs": [
        {
          "output_type": "stream",
          "name": "stdout",
          "text": [
            "['Apple', 'Samsung', 'LG']\n"
          ]
        }
      ]
    },
    {
      "cell_type": "code",
      "source": [
        "print(price_list[0:3])"
      ],
      "metadata": {
        "id": "jliqbcVuUSSX",
        "outputId": "6b58711b-2476-4bfa-99a6-c8ba7dd7e20f",
        "colab": {
          "base_uri": "https://localhost:8080/"
        }
      },
      "execution_count": 15,
      "outputs": [
        {
          "output_type": "stream",
          "name": "stdout",
          "text": [
            "[900, 899, 600]\n"
          ]
        }
      ]
    },
    {
      "cell_type": "code",
      "source": [
        "print(price_list[-1])"
      ],
      "metadata": {
        "id": "UlpxecvEUxHr",
        "outputId": "219ff59b-fdd9-4aee-bda2-c8bbe5b7e624",
        "colab": {
          "base_uri": "https://localhost:8080/"
        }
      },
      "execution_count": 16,
      "outputs": [
        {
          "output_type": "stream",
          "name": "stdout",
          "text": [
            "1000\n"
          ]
        }
      ]
    },
    {
      "cell_type": "code",
      "source": [
        "brand_list.pop(3)"
      ],
      "metadata": {
        "id": "9Jywto5SU2re",
        "outputId": "9a472063-a0d2-4bd6-edbc-c2b07602d062",
        "colab": {
          "base_uri": "https://localhost:8080/",
          "height": 35
        }
      },
      "execution_count": 17,
      "outputs": [
        {
          "output_type": "execute_result",
          "data": {
            "text/plain": [
              "'Apple'"
            ],
            "application/vnd.google.colaboratory.intrinsic+json": {
              "type": "string"
            }
          },
          "metadata": {},
          "execution_count": 17
        }
      ]
    },
    {
      "cell_type": "code",
      "source": [
        "brand_list"
      ],
      "metadata": {
        "id": "HwgJUFo5VMXi",
        "outputId": "20df8750-3a9b-4905-e246-f3b918519780",
        "colab": {
          "base_uri": "https://localhost:8080/"
        }
      },
      "execution_count": 18,
      "outputs": [
        {
          "output_type": "execute_result",
          "data": {
            "text/plain": [
              "['Apple', 'Samsung', 'LG']"
            ]
          },
          "metadata": {},
          "execution_count": 18
        }
      ]
    },
    {
      "cell_type": "code",
      "source": [
        "brand_list.append('Motorola')"
      ],
      "metadata": {
        "id": "lZdUyP_iVPVC"
      },
      "execution_count": 19,
      "outputs": []
    },
    {
      "cell_type": "code",
      "source": [
        "brand_list"
      ],
      "metadata": {
        "id": "i4AgFk49VXq9",
        "outputId": "d8c5a0ea-b2b2-48ff-9fe1-29b1a34325c6",
        "colab": {
          "base_uri": "https://localhost:8080/"
        }
      },
      "execution_count": 20,
      "outputs": [
        {
          "output_type": "execute_result",
          "data": {
            "text/plain": [
              "['Apple', 'Samsung', 'LG', 'Motorola']"
            ]
          },
          "metadata": {},
          "execution_count": 20
        }
      ]
    },
    {
      "cell_type": "code",
      "source": [
        "brand_list[3] = 'Apple'"
      ],
      "metadata": {
        "id": "_w1Sb9NFWGEF"
      },
      "execution_count": 21,
      "outputs": []
    },
    {
      "cell_type": "code",
      "source": [
        "brand_list"
      ],
      "metadata": {
        "id": "N63JOsjUWQ6X",
        "outputId": "a01bf7b8-ca34-4c0d-d784-5a711e99462a",
        "colab": {
          "base_uri": "https://localhost:8080/"
        }
      },
      "execution_count": 24,
      "outputs": [
        {
          "output_type": "execute_result",
          "data": {
            "text/plain": [
              "['Apple', 'Samsung', 'LG', 'Motorola']"
            ]
          },
          "metadata": {},
          "execution_count": 24
        }
      ]
    },
    {
      "cell_type": "code",
      "source": [
        "brand_list[3] = 'Motorola'"
      ],
      "metadata": {
        "id": "oZEVQTMjWVIQ"
      },
      "execution_count": 23,
      "outputs": []
    },
    {
      "cell_type": "markdown",
      "source": [
        "##Tuple"
      ],
      "metadata": {
        "id": "lsR21a17V9X2"
      }
    },
    {
      "cell_type": "code",
      "source": [
        "storage = (32,64,128,256)\n",
        "print(storage)"
      ],
      "metadata": {
        "id": "Voo2XKmPV--L",
        "outputId": "000e824e-c129-4801-fda7-d82531f93873",
        "colab": {
          "base_uri": "https://localhost:8080/"
        }
      },
      "execution_count": 25,
      "outputs": [
        {
          "output_type": "stream",
          "name": "stdout",
          "text": [
            "(32, 64, 128, 256)\n"
          ]
        }
      ]
    },
    {
      "cell_type": "code",
      "source": [
        "print(storage[1])"
      ],
      "metadata": {
        "id": "Y_3gM259XJFK",
        "outputId": "75322ec7-a1f8-467f-d77c-820d6f5131ee",
        "colab": {
          "base_uri": "https://localhost:8080/"
        }
      },
      "execution_count": 26,
      "outputs": [
        {
          "output_type": "stream",
          "name": "stdout",
          "text": [
            "64\n"
          ]
        }
      ]
    },
    {
      "cell_type": "code",
      "source": [
        "#storage[1] = 60"
      ],
      "metadata": {
        "id": "9QGB1gm6XWkJ"
      },
      "execution_count": 28,
      "outputs": []
    },
    {
      "cell_type": "markdown",
      "source": [
        "##Conditional Statements"
      ],
      "metadata": {
        "id": "e9I-_OQlcWIO"
      }
    },
    {
      "cell_type": "code",
      "source": [
        "price = 900\n",
        "budget = int(input('Enter your budget()(in dollars):'))\n",
        "if price <= budget:\n",
        "  print('Congrats! You can buy the Iphone')\n",
        "else:\n",
        "  print('Sorry! The mobile price is more than your budget')"
      ],
      "metadata": {
        "id": "8nXbDAl_XZvw",
        "outputId": "e192282c-0132-4852-b032-433f8e129c27",
        "colab": {
          "base_uri": "https://localhost:8080/"
        }
      },
      "execution_count": 2,
      "outputs": [
        {
          "output_type": "stream",
          "name": "stdout",
          "text": [
            "Enter your budget()(in dollars):999\n",
            "Congrats! You can buy the Iphone\n"
          ]
        }
      ]
    },
    {
      "cell_type": "code",
      "source": [
        "memory = int(input('Enter the memory: '))\n",
        "if memory == 32:\n",
        "  print('The price of the phone is $600')\n",
        "elif memory == 64:\n",
        "  print('The price of the phone is $700')\n",
        "elif memory == 128:\n",
        "  print('The price of the phone is $900')\n",
        "else:\n",
        "  print('Please enter a valid memory requirement')"
      ],
      "metadata": {
        "id": "oHK0VJcJeRQ_",
        "outputId": "b6c22b20-7cd6-4d07-9f29-8378238b5aef",
        "colab": {
          "base_uri": "https://localhost:8080/"
        }
      },
      "execution_count": 3,
      "outputs": [
        {
          "output_type": "stream",
          "name": "stdout",
          "text": [
            "Enter the memory: 128\n",
            "The price of the phone is $900\n"
          ]
        }
      ]
    },
    {
      "cell_type": "markdown",
      "source": [
        "##Looping Statements"
      ],
      "metadata": {
        "id": "oers65tTjTUC"
      }
    },
    {
      "cell_type": "code",
      "source": [
        "print(range(6))"
      ],
      "metadata": {
        "id": "W-YQxK8IhZdN",
        "outputId": "37bf6331-9020-4973-8677-c7f6e0489e84",
        "colab": {
          "base_uri": "https://localhost:8080/"
        }
      },
      "execution_count": 4,
      "outputs": [
        {
          "output_type": "stream",
          "name": "stdout",
          "text": [
            "range(0, 6)\n"
          ]
        }
      ]
    },
    {
      "cell_type": "code",
      "source": [
        "print(list(range(6)))"
      ],
      "metadata": {
        "id": "RUj6weBPmpZy",
        "outputId": "1813ddae-a237-4aa6-d42c-235a5d64fbd2",
        "colab": {
          "base_uri": "https://localhost:8080/"
        }
      },
      "execution_count": 5,
      "outputs": [
        {
          "output_type": "stream",
          "name": "stdout",
          "text": [
            "[0, 1, 2, 3, 4, 5]\n"
          ]
        }
      ]
    },
    {
      "cell_type": "code",
      "source": [
        "print(list(range(2,6,2)))"
      ],
      "metadata": {
        "id": "EFfCJCbLmsnb",
        "outputId": "64721446-2a09-4c66-cd30-57e6a55f0701",
        "colab": {
          "base_uri": "https://localhost:8080/"
        }
      },
      "execution_count": 6,
      "outputs": [
        {
          "output_type": "stream",
          "name": "stdout",
          "text": [
            "[2, 4]\n"
          ]
        }
      ]
    },
    {
      "cell_type": "code",
      "source": [
        "for i in range(5,21,5):\n",
        "  discount = price*(i/100)\n",
        "  discounted_price = price - discount\n",
        "  print('The price after providing ',i,' percent discount is $',discounted_price,sep='')"
      ],
      "metadata": {
        "id": "Z0Unmno0mxjP",
        "outputId": "3a702b6a-0979-4822-9999-4fb7ea179e70",
        "colab": {
          "base_uri": "https://localhost:8080/"
        }
      },
      "execution_count": 8,
      "outputs": [
        {
          "output_type": "stream",
          "name": "stdout",
          "text": [
            "The price after providing 5 percent discount is $855.0\n",
            "The price after providing 10 percent discount is $810.0\n",
            "The price after providing 15 percent discount is $765.0\n",
            "The price after providing 20 percent discount is $720.0\n"
          ]
        }
      ]
    },
    {
      "cell_type": "markdown",
      "source": [
        "##List Comprehension"
      ],
      "metadata": {
        "id": "Jg7HwvqMpycR"
      }
    },
    {
      "cell_type": "code",
      "source": [
        "discounted_price_list = []\n",
        "for x in price_list:\n",
        "  discounted_price = x - (x*(5/100))\n",
        "  discounted_price_list.append(discounted_price)\n",
        "print(discounted_price_list)"
      ],
      "metadata": {
        "id": "B91RsN4SoEJB",
        "outputId": "e6bf2da0-2b6f-43c5-ed73-f56b76d107d6",
        "colab": {
          "base_uri": "https://localhost:8080/"
        }
      },
      "execution_count": 12,
      "outputs": [
        {
          "output_type": "stream",
          "name": "stdout",
          "text": [
            "[855.0, 854.05, 570.0, 950.0]\n"
          ]
        }
      ]
    },
    {
      "cell_type": "code",
      "source": [
        "discounted_price_list = [(x-(x*(5/100))) for x in price_list] "
      ],
      "metadata": {
        "id": "nyGI5RL5qWPM"
      },
      "execution_count": 13,
      "outputs": []
    },
    {
      "cell_type": "code",
      "source": [
        "print(discounted_price_list)"
      ],
      "metadata": {
        "id": "BGie5bWsqv7N",
        "outputId": "3a6331e4-3aa1-4533-fc53-530f3ecbd1f9",
        "colab": {
          "base_uri": "https://localhost:8080/"
        }
      },
      "execution_count": 20,
      "outputs": [
        {
          "output_type": "stream",
          "name": "stdout",
          "text": [
            "[855.0, 854.05, 570.0, 950.0]\n"
          ]
        }
      ]
    },
    {
      "cell_type": "code",
      "source": [
        "budget = int(input('Enter your budget(in dollars):'))\n",
        "within_budget = ['Yes' if x <= budget else 'No' for x in discounted_price_list]"
      ],
      "metadata": {
        "id": "DUTsxedlqyC0",
        "outputId": "139e897a-f431-4a6c-f8f0-60d62b3c9513",
        "colab": {
          "base_uri": "https://localhost:8080/"
        }
      },
      "execution_count": 17,
      "outputs": [
        {
          "name": "stdout",
          "output_type": "stream",
          "text": [
            "Enter your budget(in dollars):700\n"
          ]
        }
      ]
    },
    {
      "cell_type": "code",
      "source": [
        "print(within_budget)"
      ],
      "metadata": {
        "id": "hhj25kXMuPr0",
        "outputId": "65a3245e-d148-4d58-d782-26564e8718df",
        "colab": {
          "base_uri": "https://localhost:8080/"
        }
      },
      "execution_count": 19,
      "outputs": [
        {
          "output_type": "stream",
          "name": "stdout",
          "text": [
            "['No', 'No', 'Yes', 'No']\n"
          ]
        }
      ]
    },
    {
      "cell_type": "code",
      "source": [
        ""
      ],
      "metadata": {
        "id": "wrOJK5IWuUjV",
        "outputId": "8e80a77b-d979-4c0f-8f16-80d2b431e85f",
        "colab": {
          "base_uri": "https://localhost:8080/"
        }
      },
      "execution_count": 21,
      "outputs": [
        {
          "output_type": "stream",
          "name": "stdout",
          "text": [
            "[1, 2]\n"
          ]
        }
      ]
    },
    {
      "cell_type": "markdown",
      "source": [
        ""
      ],
      "metadata": {
        "id": "n7qrqKB82LfH"
      }
    },
    {
      "cell_type": "markdown",
      "source": [
        "##Dictionary"
      ],
      "metadata": {
        "id": "jOcuCWlB2Lf9"
      }
    },
    {
      "cell_type": "code",
      "source": [
        "attributes = {'Brand': 'Apple','RAM':4,'Storage':128,'Price(in $)':800}"
      ],
      "metadata": {
        "id": "zblsRbyfyoIW"
      },
      "execution_count": 1,
      "outputs": []
    },
    {
      "cell_type": "code",
      "source": [
        "print(attributes)"
      ],
      "metadata": {
        "id": "K4WXqCtb2duB",
        "outputId": "4cd1cd00-1629-47b2-ece4-0e91ec1e031a",
        "colab": {
          "base_uri": "https://localhost:8080/"
        }
      },
      "execution_count": 2,
      "outputs": [
        {
          "output_type": "stream",
          "name": "stdout",
          "text": [
            "{'Brand': 'Apple', 'RAM': 4, 'Storage': 128, 'Price(in $)': 800}\n"
          ]
        }
      ]
    },
    {
      "cell_type": "code",
      "source": [
        "type(attributes)"
      ],
      "metadata": {
        "id": "JmsOWkC92g6D",
        "outputId": "4b10c79e-6674-467e-e1d6-fa64cbf6119c",
        "colab": {
          "base_uri": "https://localhost:8080/"
        }
      },
      "execution_count": 3,
      "outputs": [
        {
          "output_type": "execute_result",
          "data": {
            "text/plain": [
              "dict"
            ]
          },
          "metadata": {},
          "execution_count": 3
        }
      ]
    },
    {
      "cell_type": "code",
      "source": [
        "print(attributes['Price(in $)'])"
      ],
      "metadata": {
        "id": "1cVieccn2y0Q",
        "outputId": "dea5b8e7-739c-4ee7-e510-9b4258db75f2",
        "colab": {
          "base_uri": "https://localhost:8080/"
        }
      },
      "execution_count": 4,
      "outputs": [
        {
          "output_type": "stream",
          "name": "stdout",
          "text": [
            "800\n"
          ]
        }
      ]
    },
    {
      "cell_type": "code",
      "source": [
        "attributes['Price(in $)'] = 900"
      ],
      "metadata": {
        "id": "YdHl2Voi24EQ"
      },
      "execution_count": 5,
      "outputs": []
    },
    {
      "cell_type": "code",
      "source": [
        "attributes"
      ],
      "metadata": {
        "id": "XyNu7mEv3BiC",
        "outputId": "b78a2751-9356-465f-ff44-17e89931a06a",
        "colab": {
          "base_uri": "https://localhost:8080/"
        }
      },
      "execution_count": 6,
      "outputs": [
        {
          "output_type": "execute_result",
          "data": {
            "text/plain": [
              "{'Brand': 'Apple', 'Price(in $)': 900, 'RAM': 4, 'Storage': 128}"
            ]
          },
          "metadata": {},
          "execution_count": 6
        }
      ]
    },
    {
      "cell_type": "code",
      "source": [
        "products = {'Brand': brand_list,'RAM': ram_list,'Storage': storage_list,'Price (in $)':price_list}"
      ],
      "metadata": {
        "id": "tJSIetaI3CUm"
      },
      "execution_count": 11,
      "outputs": []
    },
    {
      "cell_type": "code",
      "source": [
        "products"
      ],
      "metadata": {
        "id": "NyT68U1o3t4x",
        "outputId": "04fddacb-9aae-4efb-ab57-77491c22f3fe",
        "colab": {
          "base_uri": "https://localhost:8080/"
        }
      },
      "execution_count": 12,
      "outputs": [
        {
          "output_type": "execute_result",
          "data": {
            "text/plain": [
              "{'Brand': ['Apple', 'Samsung', 'LG', 'Apple'],\n",
              " 'Price (in $)': [900, 899, 600, 1000],\n",
              " 'RAM': [4, 12, 8, 8],\n",
              " 'Storage': [128, 128, 64, 128]}"
            ]
          },
          "metadata": {},
          "execution_count": 12
        }
      ]
    },
    {
      "cell_type": "code",
      "source": [
        "keys = products.keys()"
      ],
      "metadata": {
        "id": "NxOcb_8O36xH"
      },
      "execution_count": 13,
      "outputs": []
    },
    {
      "cell_type": "code",
      "source": [
        "print(keys)"
      ],
      "metadata": {
        "id": "6lRb5TJT4qI4",
        "outputId": "0c7b7573-ec5b-4df0-c132-2394908c0fde",
        "colab": {
          "base_uri": "https://localhost:8080/"
        }
      },
      "execution_count": 15,
      "outputs": [
        {
          "output_type": "stream",
          "name": "stdout",
          "text": [
            "dict_keys(['Brand', 'RAM', 'Storage', 'Price (in $)'])\n"
          ]
        }
      ]
    },
    {
      "cell_type": "code",
      "source": [
        "values = products.values()"
      ],
      "metadata": {
        "id": "ADYo0Iog4qsl"
      },
      "execution_count": 16,
      "outputs": []
    },
    {
      "cell_type": "code",
      "source": [
        "print(values)"
      ],
      "metadata": {
        "id": "afwPFzXi4xY1",
        "outputId": "882b8ce2-3893-4e46-bb5a-1493ad67f116",
        "colab": {
          "base_uri": "https://localhost:8080/"
        }
      },
      "execution_count": 17,
      "outputs": [
        {
          "output_type": "stream",
          "name": "stdout",
          "text": [
            "dict_values([['Apple', 'Samsung', 'LG', 'Apple'], [4, 12, 8, 8], [128, 128, 64, 128], [900, 899, 600, 1000]])\n"
          ]
        }
      ]
    },
    {
      "cell_type": "code",
      "source": [
        "products['RAM'][2]"
      ],
      "metadata": {
        "id": "7J2_BXIW4yuH",
        "outputId": "ddf6e8aa-fdd0-4fee-8d8d-ee211f2a9f7f",
        "colab": {
          "base_uri": "https://localhost:8080/"
        }
      },
      "execution_count": 19,
      "outputs": [
        {
          "output_type": "execute_result",
          "data": {
            "text/plain": [
              "8"
            ]
          },
          "metadata": {},
          "execution_count": 19
        }
      ]
    },
    {
      "cell_type": "markdown",
      "source": [
        "# While Loops"
      ],
      "metadata": {
        "id": "Upxae2TxZP2k"
      }
    },
    {
      "cell_type": "code",
      "source": [
        "price = 900\n",
        "i = 5\n",
        "while i <= 20:\n",
        "  discount = price*(i/100)\n",
        "  discounted_price = price - discount\n",
        "  print('The price after ',i,' percent discount is $',discounted_price)\n",
        "  i+=1"
      ],
      "metadata": {
        "id": "wo7FqfUD5D-X",
        "outputId": "38821244-f320-4553-ae2b-bb4f4ea7be73",
        "colab": {
          "base_uri": "https://localhost:8080/"
        }
      },
      "execution_count": 21,
      "outputs": [
        {
          "output_type": "stream",
          "name": "stdout",
          "text": [
            "The price after  5  percent discount is $ 855.0\n",
            "The price after  6  percent discount is $ 846.0\n",
            "The price after  7  percent discount is $ 837.0\n",
            "The price after  8  percent discount is $ 828.0\n",
            "The price after  9  percent discount is $ 819.0\n",
            "The price after  10  percent discount is $ 810.0\n",
            "The price after  11  percent discount is $ 801.0\n",
            "The price after  12  percent discount is $ 792.0\n",
            "The price after  13  percent discount is $ 783.0\n",
            "The price after  14  percent discount is $ 774.0\n",
            "The price after  15  percent discount is $ 765.0\n",
            "The price after  16  percent discount is $ 756.0\n",
            "The price after  17  percent discount is $ 747.0\n",
            "The price after  18  percent discount is $ 738.0\n",
            "The price after  19  percent discount is $ 729.0\n",
            "The price after  20  percent discount is $ 720.0\n"
          ]
        }
      ]
    },
    {
      "cell_type": "markdown",
      "source": [
        "## Functions in Python"
      ],
      "metadata": {
        "id": "6TGK2J_rbzaX"
      }
    },
    {
      "cell_type": "code",
      "source": [
        "def display_iphone_attributes():\n",
        "  price = 900\n",
        "  ram = 4\n",
        "  storage = 128\n",
        "  print('The iphone Apple has',ram,'GB RAM',storage,'GB storage and is priced at $:',price)"
      ],
      "metadata": {
        "id": "5ndMVD-DZ0AT"
      },
      "execution_count": 24,
      "outputs": []
    },
    {
      "cell_type": "code",
      "source": [
        "display_iphone_attributes()"
      ],
      "metadata": {
        "id": "9cJ6PHHWdAsN",
        "outputId": "77aff7cd-1f1e-4b00-882e-410bdcffe3ee",
        "colab": {
          "base_uri": "https://localhost:8080/"
        }
      },
      "execution_count": 25,
      "outputs": [
        {
          "output_type": "stream",
          "name": "stdout",
          "text": [
            "The iphone Apple has 4 GB RAM 128 GB storage and is priced at $: 900\n"
          ]
        }
      ]
    },
    {
      "cell_type": "code",
      "source": [
        "def display_attributes(brand,price,ram,storage):\n",
        "  print('The',brand,'phone has',ram,'GB RAM',storage,'GB storage and is priced at $:',price)"
      ],
      "metadata": {
        "id": "fNHsvpWpdDTZ"
      },
      "execution_count": 27,
      "outputs": []
    },
    {
      "cell_type": "code",
      "source": [
        "display_attributes('Samsung',799,8,128)"
      ],
      "metadata": {
        "id": "LMfSNNDfdYMZ",
        "outputId": "98dcd03b-971d-4566-9881-b20555429256",
        "colab": {
          "base_uri": "https://localhost:8080/"
        }
      },
      "execution_count": 28,
      "outputs": [
        {
          "output_type": "stream",
          "name": "stdout",
          "text": [
            "The Samsung phone has 8 GB RAM 128 GB storage and is priced at $: 799\n"
          ]
        }
      ]
    },
    {
      "cell_type": "code",
      "source": [
        "def func(a):\n",
        "  print(a)\n",
        "A = [0,1,2,3]\n",
        "func(A)"
      ],
      "metadata": {
        "id": "WrOkIyLudm5E",
        "outputId": "203c02dc-8deb-4126-8e57-947ec7c35308",
        "colab": {
          "base_uri": "https://localhost:8080/"
        }
      },
      "execution_count": 29,
      "outputs": [
        {
          "output_type": "stream",
          "name": "stdout",
          "text": [
            "[0, 1, 2, 3]\n"
          ]
        }
      ]
    },
    {
      "cell_type": "code",
      "source": [
        "def dis_price(discount,price):\n",
        "  discounted_price = price - price*discount/100\n",
        "  return discounted_price \n"
      ],
      "metadata": {
        "id": "_dYOLgcseP1j"
      },
      "execution_count": 36,
      "outputs": []
    },
    {
      "cell_type": "code",
      "source": [
        "dp = dis_price(10,900)"
      ],
      "metadata": {
        "id": "gW8rsEQ3fSrV"
      },
      "execution_count": 37,
      "outputs": []
    },
    {
      "cell_type": "code",
      "source": [
        "dp"
      ],
      "metadata": {
        "id": "EXA4w5g0fWTh",
        "outputId": "eea5c8c5-db1c-4479-9402-29630c9231ba",
        "colab": {
          "base_uri": "https://localhost:8080/"
        }
      },
      "execution_count": 38,
      "outputs": [
        {
          "output_type": "execute_result",
          "data": {
            "text/plain": [
              "810.0"
            ]
          },
          "metadata": {},
          "execution_count": 38
        }
      ]
    },
    {
      "cell_type": "markdown",
      "source": [
        "## Lambda"
      ],
      "metadata": {
        "id": "sN7NC_m9fy42"
      }
    },
    {
      "cell_type": "code",
      "source": [
        "dis_price_lambda = lambda discount : 900 - 900*(discount/100)"
      ],
      "metadata": {
        "id": "Z1Nl786PfY2O"
      },
      "execution_count": 39,
      "outputs": []
    },
    {
      "cell_type": "code",
      "source": [
        "dis_price_lambda(10)"
      ],
      "metadata": {
        "id": "EUoKP1Qaf9ny",
        "outputId": "dd33d945-1bab-4f11-d2e3-c8e33c6b4e36",
        "colab": {
          "base_uri": "https://localhost:8080/"
        }
      },
      "execution_count": 40,
      "outputs": [
        {
          "output_type": "execute_result",
          "data": {
            "text/plain": [
              "810.0"
            ]
          },
          "metadata": {},
          "execution_count": 40
        }
      ]
    },
    {
      "cell_type": "code",
      "source": [
        ""
      ],
      "metadata": {
        "id": "shnaW-vJgBBQ"
      },
      "execution_count": null,
      "outputs": []
    }
  ]
}